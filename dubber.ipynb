{
 "cells": [
  {
   "cell_type": "code",
   "execution_count": 4,
   "metadata": {},
   "outputs": [
    {
     "name": "stderr",
     "output_type": "stream",
     "text": [
      "\u001b[32m2023-06-25 12:20:08.484\u001b[0m | \u001b[31m\u001b[1mERROR   \u001b[0m | \u001b[36m__main__\u001b[0m:\u001b[36m<module>\u001b[0m:\u001b[36m9\u001b[0m - \u001b[31m\u001b[1mAn error has been caught in function '<module>', process 'MainProcess' (1580), thread 'MainThread' (140276106998400):\u001b[0m\n",
      "\u001b[33m\u001b[1mTraceback (most recent call last):\u001b[0m\n",
      "\n",
      "  File \"/home/codespace/.python/current/lib/python3.10/runpy.py\", line 196, in _run_module_as_main\n",
      "    return _run_code(code, main_globals, None,\n",
      "           │         │     └ {'__name__': '__main__', '__doc__': 'Entry point for launching an IPython kernel.\\n\\nThis is separate from the ipykernel pack...\n",
      "           │         └ <code object <module> at 0x7f9493411210, file \"/home/codespace/.local/lib/python3.10/site-packages/ipykernel_launcher.py\", li...\n",
      "           └ <function _run_code at 0x7f949324dab0>\n",
      "  File \"/home/codespace/.python/current/lib/python3.10/runpy.py\", line 86, in _run_code\n",
      "    exec(code, run_globals)\n",
      "         │     └ {'__name__': '__main__', '__doc__': 'Entry point for launching an IPython kernel.\\n\\nThis is separate from the ipykernel pack...\n",
      "         └ <code object <module> at 0x7f9493411210, file \"/home/codespace/.local/lib/python3.10/site-packages/ipykernel_launcher.py\", li...\n",
      "  File \"/home/codespace/.local/lib/python3.10/site-packages/ipykernel_launcher.py\", line 17, in <module>\n",
      "    app.launch_new_instance()\n",
      "    │   └ <bound method Application.launch_instance of <class 'ipykernel.kernelapp.IPKernelApp'>>\n",
      "    └ <module 'ipykernel.kernelapp' from '/home/codespace/.local/lib/python3.10/site-packages/ipykernel/kernelapp.py'>\n",
      "  File \"/home/codespace/.local/lib/python3.10/site-packages/traitlets/config/application.py\", line 1043, in launch_instance\n",
      "    app.start()\n",
      "    │   └ <function IPKernelApp.start at 0x7f94908012d0>\n",
      "    └ <ipykernel.kernelapp.IPKernelApp object at 0x7f94933b7e50>\n",
      "  File \"/home/codespace/.local/lib/python3.10/site-packages/ipykernel/kernelapp.py\", line 725, in start\n",
      "    self.io_loop.start()\n",
      "    │    │       └ <function BaseAsyncIOLoop.start at 0x7f9490663010>\n",
      "    │    └ <tornado.platform.asyncio.AsyncIOMainLoop object at 0x7f94908138e0>\n",
      "    └ <ipykernel.kernelapp.IPKernelApp object at 0x7f94933b7e50>\n",
      "  File \"/home/codespace/.local/lib/python3.10/site-packages/tornado/platform/asyncio.py\", line 195, in start\n",
      "    self.asyncio_loop.run_forever()\n",
      "    │    │            └ <function BaseEventLoop.run_forever at 0x7f949268d5a0>\n",
      "    │    └ <_UnixSelectorEventLoop running=True closed=False debug=False>\n",
      "    └ <tornado.platform.asyncio.AsyncIOMainLoop object at 0x7f94908138e0>\n",
      "  File \"/home/codespace/.python/current/lib/python3.10/asyncio/base_events.py\", line 603, in run_forever\n",
      "    self._run_once()\n",
      "    │    └ <function BaseEventLoop._run_once at 0x7f949268f0a0>\n",
      "    └ <_UnixSelectorEventLoop running=True closed=False debug=False>\n",
      "  File \"/home/codespace/.python/current/lib/python3.10/asyncio/base_events.py\", line 1899, in _run_once\n",
      "    handle._run()\n",
      "    │      └ <function Handle._run at 0x7f949263a440>\n",
      "    └ <Handle Task.task_wakeup(<Future finis...880>, ...],))>)>\n",
      "  File \"/home/codespace/.python/current/lib/python3.10/asyncio/events.py\", line 80, in _run\n",
      "    self._context.run(self._callback, *self._args)\n",
      "    │    │            │    │           │    └ <member '_args' of 'Handle' objects>\n",
      "    │    │            │    │           └ <Handle Task.task_wakeup(<Future finis...880>, ...],))>)>\n",
      "    │    │            │    └ <member '_callback' of 'Handle' objects>\n",
      "    │    │            └ <Handle Task.task_wakeup(<Future finis...880>, ...],))>)>\n",
      "    │    └ <member '_context' of 'Handle' objects>\n",
      "    └ <Handle Task.task_wakeup(<Future finis...880>, ...],))>)>\n",
      "  File \"/home/codespace/.local/lib/python3.10/site-packages/ipykernel/kernelbase.py\", line 513, in dispatch_queue\n",
      "    await self.process_one()\n",
      "          │    └ <function Kernel.process_one at 0x7f9490cf3370>\n",
      "          └ <ipykernel.ipkernel.IPythonKernel object at 0x7f9490813ee0>\n",
      "  File \"/home/codespace/.local/lib/python3.10/site-packages/ipykernel/kernelbase.py\", line 502, in process_one\n",
      "    await dispatch(*args)\n",
      "          │         └ ([<zmq.sugar.frame.Frame object at 0x7f949082c5c0>, <zmq.sugar.frame.Frame object at 0x7f949081f320>, <zmq.sugar.frame.Frame ...\n",
      "          └ <bound method Kernel.dispatch_shell of <ipykernel.ipkernel.IPythonKernel object at 0x7f9490813ee0>>\n",
      "  File \"/home/codespace/.local/lib/python3.10/site-packages/ipykernel/kernelbase.py\", line 409, in dispatch_shell\n",
      "    await result\n",
      "          └ <coroutine object Kernel.execute_request at 0x7f9490685700>\n",
      "  File \"/home/codespace/.local/lib/python3.10/site-packages/ipykernel/kernelbase.py\", line 729, in execute_request\n",
      "    reply_content = await reply_content\n",
      "                          └ <coroutine object IPythonKernel.do_execute at 0x7f94906851c0>\n",
      "  File \"/home/codespace/.local/lib/python3.10/site-packages/ipykernel/ipkernel.py\", line 422, in do_execute\n",
      "    res = shell.run_cell(\n",
      "          │     └ <function ZMQInteractiveShell.run_cell at 0x7f94907e6c20>\n",
      "          └ <ipykernel.zmqshell.ZMQInteractiveShell object at 0x7f94906b8400>\n",
      "  File \"/home/codespace/.local/lib/python3.10/site-packages/ipykernel/zmqshell.py\", line 540, in run_cell\n",
      "    return super().run_cell(*args, **kwargs)\n",
      "                             │       └ {'store_history': True, 'silent': False, 'cell_id': 'vscode-notebook-cell://codespaces%2Bmantramehtapy-orange-guide-596w7r5vp...\n",
      "                             └ ('from loguru import logger\\n\\nlogger.add(\"file_{time}.log\", level = \"TRACE\", rotation=\"100 MB\")\\n\\n@logger.catch\\ndef dev_hu...\n",
      "  File \"/home/codespace/.local/lib/python3.10/site-packages/IPython/core/interactiveshell.py\", line 3009, in run_cell\n",
      "    result = self._run_cell(\n",
      "             │    └ <function InteractiveShell._run_cell at 0x7f94918771c0>\n",
      "             └ <ipykernel.zmqshell.ZMQInteractiveShell object at 0x7f94906b8400>\n",
      "  File \"/home/codespace/.local/lib/python3.10/site-packages/IPython/core/interactiveshell.py\", line 3064, in _run_cell\n",
      "    result = runner(coro)\n",
      "             │      └ <coroutine object InteractiveShell.run_cell_async at 0x7f9490687f40>\n",
      "             └ <function _pseudo_sync_runner at 0x7f949185ab00>\n",
      "  File \"/home/codespace/.local/lib/python3.10/site-packages/IPython/core/async_helpers.py\", line 129, in _pseudo_sync_runner\n",
      "    coro.send(None)\n",
      "    │    └ <method 'send' of 'coroutine' objects>\n",
      "    └ <coroutine object InteractiveShell.run_cell_async at 0x7f9490687f40>\n",
      "  File \"/home/codespace/.local/lib/python3.10/site-packages/IPython/core/interactiveshell.py\", line 3269, in run_cell_async\n",
      "    has_raised = await self.run_ast_nodes(code_ast.body, cell_name,\n",
      "                       │    │             │        │     └ '/tmp/ipykernel_1580/1662927368.py'\n",
      "                       │    │             │        └ [<ast.ImportFrom object at 0x7f948c255360>, <ast.Expr object at 0x7f948c254df0>, <ast.FunctionDef object at 0x7f948c255fc0>, ...\n",
      "                       │    │             └ <ast.Module object at 0x7f948c254370>\n",
      "                       │    └ <function InteractiveShell.run_ast_nodes at 0x7f9491877490>\n",
      "                       └ <ipykernel.zmqshell.ZMQInteractiveShell object at 0x7f94906b8400>\n",
      "  File \"/home/codespace/.local/lib/python3.10/site-packages/IPython/core/interactiveshell.py\", line 3448, in run_ast_nodes\n",
      "    if await self.run_code(code, result, async_=asy):\n",
      "             │    │        │     │              └ False\n",
      "             │    │        │     └ <ExecutionResult object at 7f948c43fbe0, execution_count=4 error_before_exec=None error_in_exec=None info=<ExecutionInfo obje...\n",
      "             │    │        └ <code object <module> at 0x7f948c1cc500, file \"/tmp/ipykernel_1580/1662927368.py\", line 1>\n",
      "             │    └ <function InteractiveShell.run_code at 0x7f9491877520>\n",
      "             └ <ipykernel.zmqshell.ZMQInteractiveShell object at 0x7f94906b8400>\n",
      "  File \"/home/codespace/.local/lib/python3.10/site-packages/IPython/core/interactiveshell.py\", line 3508, in run_code\n",
      "    exec(code_obj, self.user_global_ns, self.user_ns)\n",
      "         │         │    │               │    └ {'__name__': '__main__', '__doc__': 'Automatically created module for IPython interactive environment', '__package__': None, ...\n",
      "         │         │    │               └ <ipykernel.zmqshell.ZMQInteractiveShell object at 0x7f94906b8400>\n",
      "         │         │    └ <property object at 0x7f949185f6f0>\n",
      "         │         └ <ipykernel.zmqshell.ZMQInteractiveShell object at 0x7f94906b8400>\n",
      "         └ <code object <module> at 0x7f948c1cc500, file \"/tmp/ipykernel_1580/1662927368.py\", line 1>\n",
      "\n",
      "> File \"\u001b[32m/tmp/ipykernel_1580/\u001b[0m\u001b[32m\u001b[1m1662927368.py\u001b[0m\", line \u001b[33m9\u001b[0m, in \u001b[35m<module>\u001b[0m\n",
      "    \u001b[1mdev_hundred\u001b[0m\u001b[1m(\u001b[0m\u001b[34m\u001b[1m0\u001b[0m\u001b[1m)\u001b[0m\n",
      "    \u001b[36m└ \u001b[0m\u001b[36m\u001b[1m<function dev_hundred at 0x7f948c1c5900>\u001b[0m\n",
      "\n",
      "  File \"\u001b[32m/tmp/ipykernel_1580/\u001b[0m\u001b[32m\u001b[1m1662927368.py\u001b[0m\", line \u001b[33m7\u001b[0m, in \u001b[35mdev_hundred\u001b[0m\n",
      "    \u001b[35m\u001b[1mreturn\u001b[0m \u001b[34m\u001b[1m100\u001b[0m\u001b[35m\u001b[1m/\u001b[0m\u001b[1mnumber\u001b[0m\n",
      "    \u001b[36m           └ \u001b[0m\u001b[36m\u001b[1m0\u001b[0m\n",
      "\n",
      "\u001b[31m\u001b[1mZeroDivisionError\u001b[0m:\u001b[1m division by zero\u001b[0m\n"
     ]
    }
   ],
   "source": [
    "from loguru import logger\n",
    "\n",
    "logger.add(\"file_{time}.log\", level = \"TRACE\", rotation=\"100 MB\")\n",
    "\n",
    "@logger.catch\n",
    "def dev_hundred(number):\n",
    "    return 100/number\n",
    "\n",
    "dev_hundred(0)"
   ]
  },
  {
   "cell_type": "code",
   "execution_count": 6,
   "metadata": {},
   "outputs": [
    {
     "name": "stdout",
     "output_type": "stream",
     "text": [
      "mantra\n",
      "MANTRA\n"
     ]
    }
   ],
   "source": [
    "def Upper(func):\n",
    "    def inner(a):\n",
    "        print(a)\n",
    "        print(a.upper())\n",
    "    return inner\n",
    "\n",
    "@Upper\n",
    "def divide(a):\n",
    "    return(a)\n",
    "\n",
    "divide(\"mantra\")"
   ]
  },
  {
   "cell_type": "code",
   "execution_count": 8,
   "metadata": {},
   "outputs": [
    {
     "name": "stdout",
     "output_type": "stream",
     "text": [
      "MANTRA\n",
      "mantra\n"
     ]
    }
   ],
   "source": [
    "def Lower(func):\n",
    "    def inner(a):\n",
    "        print(a)\n",
    "        print(a.lower())\n",
    "    return inner\n",
    "\n",
    "@Lower\n",
    "def divide(a):\n",
    "    return(a)\n",
    "\n",
    "divide(\"MANTRA\")"
   ]
  },
  {
   "cell_type": "code",
   "execution_count": 12,
   "metadata": {},
   "outputs": [
    {
     "name": "stdout",
     "output_type": "stream",
     "text": [
      "mantra\n",
      "artnam\n"
     ]
    }
   ],
   "source": [
    "def Reverse(func):\n",
    "    def inner(a):\n",
    "        print(a)\n",
    "        print(\"\".join(reversed(a)))\n",
    "    return inner\n",
    "\n",
    "@Reverse\n",
    "def divide(a):\n",
    "    return(a)\n",
    "\n",
    "divide(\"mantra\")"
   ]
  },
  {
   "cell_type": "code",
   "execution_count": null,
   "metadata": {},
   "outputs": [],
   "source": []
  },
  {
   "cell_type": "code",
   "execution_count": null,
   "metadata": {},
   "outputs": [],
   "source": []
  }
 ],
 "metadata": {
  "kernelspec": {
   "display_name": "Python 3",
   "language": "python",
   "name": "python3"
  },
  "language_info": {
   "codemirror_mode": {
    "name": "ipython",
    "version": 3
   },
   "file_extension": ".py",
   "mimetype": "text/x-python",
   "name": "python",
   "nbconvert_exporter": "python",
   "pygments_lexer": "ipython3",
   "version": "3.10.8"
  },
  "orig_nbformat": 4
 },
 "nbformat": 4,
 "nbformat_minor": 2
}
