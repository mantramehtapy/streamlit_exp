{
  "cells": [
    {
      "cell_type": "code",
      "execution_count": null,
      "metadata": {
        "id": "DP-W3ZJg7sU7"
      },
      "outputs": [],
      "source": [
        "import pandas as pd\n",
        "\n",
        "df = pd.read_csv('pokemon_data.csv')\n",
        "\n",
        "df_xlsx = pd.read_excel('/content/pokemon_data.xlsx')\n",
        "\n",
        "print(df_xlsx.head(3))\n",
        "\n",
        "# print(df.head(3))\n",
        "# print(df.tail(3))"
      ]
    },
    {
      "cell_type": "code",
      "execution_count": null,
      "metadata": {
        "id": "6mdpVKC9yP5s"
      },
      "outputs": [],
      "source": []
    },
    {
      "cell_type": "code",
      "execution_count": null,
      "metadata": {
        "id": "i3AxD-TvyQFj"
      },
      "outputs": [],
      "source": []
    },
    {
      "cell_type": "code",
      "execution_count": null,
      "metadata": {
        "id": "Sa0QbMvVyQIg"
      },
      "outputs": [],
      "source": []
    },
    {
      "cell_type": "code",
      "execution_count": null,
      "metadata": {
        "id": "J61NO_AP7v35"
      },
      "outputs": [],
      "source": [
        "df.columns\n",
        "# print(df['Name'])\n",
        "# print(df['Name'][0:5])\n",
        "print(df.Name)"
      ]
    },
    {
      "cell_type": "code",
      "execution_count": null,
      "metadata": {
        "id": "U-uVqb2_7v6t"
      },
      "outputs": [],
      "source": [
        "df.loc[df['Type 1'] == \"Grass\"]"
      ]
    },
    {
      "cell_type": "code",
      "execution_count": null,
      "metadata": {
        "id": "tBSoX8pC7v8-"
      },
      "outputs": [],
      "source": [
        "df.describe()\n",
        "# df.sort_values('name')"
      ]
    },
    {
      "cell_type": "code",
      "execution_count": null,
      "metadata": {
        "id": "rDipl_be7v_d"
      },
      "outputs": [],
      "source": [
        "df.head(5)"
      ]
    },
    {
      "cell_type": "code",
      "execution_count": null,
      "metadata": {
        "id": "ozrwL5C07wCJ"
      },
      "outputs": [],
      "source": [
        "#df['Total'] = df['HP'] + df['Attack'] + df['Defense'] + df['Sp. Atk'] + df['Sp. Def'] + df['Speed']\n",
        "\n",
        "# df = df.drop(columns=['Total'])\n",
        "\n",
        "df['Total'] = df.iloc[:, 4:10].sum(axis=1)\n",
        "\n",
        "cols = list(df.columns)\n",
        "df = df[cols[0:4] + [cols[-1]]+cols[4:12]]\n",
        "\n",
        "df.head(5)"
      ]
    },
    {
      "cell_type": "code",
      "execution_count": null,
      "metadata": {
        "id": "Daj5bubo7wEp"
      },
      "outputs": [],
      "source": [
        "# df.to_csv('modified.csv', index=False)\n",
        "\n",
        "#df.to_excel('modified.xlsx', index=False)\n",
        "\n",
        "df.to_csv('modified.txt', index=False, sep='\\t')"
      ]
    },
    {
      "cell_type": "code",
      "execution_count": null,
      "metadata": {
        "id": "6gYBb9SR7wLb"
      },
      "outputs": [],
      "source": [
        "new_df = df.loc[(df['Type 1'] == 'Grass') & (df['Type 2'] == 'Poison') & (df['HP'] > 70)]\n",
        "\n",
        "new_df.reset_index(drop=True, inplace=True)\n",
        "\n",
        "new_df\n",
        "\n",
        "new_df.to_csv('filtered.csv')\n"
      ]
    },
    {
      "cell_type": "code",
      "execution_count": null,
      "metadata": {
        "id": "rNP6lVBd7wM6"
      },
      "outputs": [],
      "source": [
        "# df.to_csv('modified.csv', index=False)\n",
        "\n",
        "#df.to_excel('modified.xlsx', index=False)\n",
        "\n",
        "df.to_csv('modified.txt', index=False, sep='\\t')"
      ]
    },
    {
      "cell_type": "code",
      "execution_count": null,
      "metadata": {
        "id": "5AENfviZ7wO4"
      },
      "outputs": [],
      "source": [
        "new_df = df.loc[(df['Type 1'] == 'Grass') & (df['Type 2'] == 'Poison') & (df['HP'] > 70)]\n",
        "\n",
        "new_df.reset_index(drop=True, inplace=True)\n",
        "\n",
        "new_df\n",
        "\n",
        "new_df.to_csv('filtered.csv')"
      ]
    },
    {
      "cell_type": "code",
      "execution_count": null,
      "metadata": {
        "id": "29iZ58RL7wPw"
      },
      "outputs": [],
      "source": [
        "# df.loc[df['Total'] > 500, ['Generation','Legendary']] = ['Test 1', 'Test 2']\n",
        "\n",
        "# df\n",
        "\n",
        "df = pd.read_csv('modified.csv')\n",
        "\n",
        "df"
      ]
    },
    {
      "cell_type": "code",
      "execution_count": 6,
      "metadata": {
        "id": "Fs6MBGW37wSm"
      },
      "outputs": [
        {
          "name": "stdout",
          "output_type": "stream",
          "text": [
            "Requirement already satisfied: gradio in /usr/local/python/3.10.4/lib/python3.10/site-packages (3.28.1)\n",
            "Requirement already satisfied: aiofiles in /home/codespace/.local/lib/python3.10/site-packages (from gradio) (22.1.0)\n",
            "Requirement already satisfied: aiohttp in /usr/local/python/3.10.4/lib/python3.10/site-packages (from gradio) (3.8.4)\n",
            "Requirement already satisfied: altair>=4.2.0 in /usr/local/python/3.10.4/lib/python3.10/site-packages (from gradio) (4.2.2)\n",
            "Requirement already satisfied: fastapi in /usr/local/python/3.10.4/lib/python3.10/site-packages (from gradio) (0.95.1)\n",
            "Requirement already satisfied: ffmpy in /usr/local/python/3.10.4/lib/python3.10/site-packages (from gradio) (0.3.0)\n",
            "Requirement already satisfied: gradio-client>=0.1.3 in /usr/local/python/3.10.4/lib/python3.10/site-packages (from gradio) (0.1.4)\n",
            "Requirement already satisfied: httpx in /usr/local/python/3.10.4/lib/python3.10/site-packages (from gradio) (0.24.0)\n",
            "Requirement already satisfied: huggingface-hub>=0.13.0 in /usr/local/python/3.10.4/lib/python3.10/site-packages (from gradio) (0.14.1)\n",
            "Requirement already satisfied: jinja2 in /home/codespace/.local/lib/python3.10/site-packages (from gradio) (3.1.2)\n",
            "Requirement already satisfied: markdown-it-py[linkify]>=2.0.0 in /usr/local/python/3.10.4/lib/python3.10/site-packages (from gradio) (2.2.0)\n",
            "Requirement already satisfied: markupsafe in /home/codespace/.local/lib/python3.10/site-packages (from gradio) (2.1.2)\n",
            "Requirement already satisfied: matplotlib in /home/codespace/.local/lib/python3.10/site-packages (from gradio) (3.7.1)\n",
            "Requirement already satisfied: mdit-py-plugins<=0.3.3 in /usr/local/python/3.10.4/lib/python3.10/site-packages (from gradio) (0.3.3)\n",
            "Requirement already satisfied: numpy in /home/codespace/.local/lib/python3.10/site-packages (from gradio) (1.24.3)\n",
            "Requirement already satisfied: orjson in /usr/local/python/3.10.4/lib/python3.10/site-packages (from gradio) (3.8.11)\n",
            "Requirement already satisfied: pandas in /home/codespace/.local/lib/python3.10/site-packages (from gradio) (2.0.1)\n",
            "Requirement already satisfied: pillow in /home/codespace/.local/lib/python3.10/site-packages (from gradio) (9.5.0)\n",
            "Requirement already satisfied: pydantic in /usr/local/python/3.10.4/lib/python3.10/site-packages (from gradio) (1.10.7)\n",
            "Requirement already satisfied: pydub in /usr/local/python/3.10.4/lib/python3.10/site-packages (from gradio) (0.25.1)\n",
            "Requirement already satisfied: python-multipart in /usr/local/python/3.10.4/lib/python3.10/site-packages (from gradio) (0.0.6)\n",
            "Requirement already satisfied: pyyaml in /home/codespace/.local/lib/python3.10/site-packages (from gradio) (6.0)\n",
            "Requirement already satisfied: requests in /home/codespace/.local/lib/python3.10/site-packages (from gradio) (2.28.2)\n",
            "Requirement already satisfied: semantic-version in /usr/local/python/3.10.4/lib/python3.10/site-packages (from gradio) (2.10.0)\n",
            "Requirement already satisfied: typing-extensions in /home/codespace/.local/lib/python3.10/site-packages (from gradio) (4.5.0)\n",
            "Requirement already satisfied: uvicorn in /usr/local/python/3.10.4/lib/python3.10/site-packages (from gradio) (0.22.0)\n",
            "Requirement already satisfied: websockets>=10.0 in /usr/local/python/3.10.4/lib/python3.10/site-packages (from gradio) (11.0.2)\n",
            "Requirement already satisfied: entrypoints in /usr/local/python/3.10.4/lib/python3.10/site-packages (from altair>=4.2.0->gradio) (0.4)\n",
            "Requirement already satisfied: jsonschema>=3.0 in /home/codespace/.local/lib/python3.10/site-packages (from altair>=4.2.0->gradio) (4.17.3)\n",
            "Requirement already satisfied: toolz in /usr/local/python/3.10.4/lib/python3.10/site-packages (from altair>=4.2.0->gradio) (0.12.0)\n",
            "Requirement already satisfied: fsspec in /usr/local/python/3.10.4/lib/python3.10/site-packages (from gradio-client>=0.1.3->gradio) (2023.4.0)\n",
            "Requirement already satisfied: packaging in /home/codespace/.local/lib/python3.10/site-packages (from gradio-client>=0.1.3->gradio) (23.1)\n",
            "Requirement already satisfied: filelock in /home/codespace/.local/lib/python3.10/site-packages (from huggingface-hub>=0.13.0->gradio) (3.12.0)\n",
            "Requirement already satisfied: tqdm>=4.42.1 in /usr/local/python/3.10.4/lib/python3.10/site-packages (from huggingface-hub>=0.13.0->gradio) (4.65.0)\n",
            "Requirement already satisfied: mdurl~=0.1 in /usr/local/python/3.10.4/lib/python3.10/site-packages (from markdown-it-py[linkify]>=2.0.0->gradio) (0.1.2)\n",
            "Requirement already satisfied: linkify-it-py<3,>=1 in /usr/local/python/3.10.4/lib/python3.10/site-packages (from markdown-it-py[linkify]>=2.0.0->gradio) (2.0.2)\n",
            "Requirement already satisfied: python-dateutil>=2.8.2 in /home/codespace/.local/lib/python3.10/site-packages (from pandas->gradio) (2.8.2)\n",
            "Requirement already satisfied: pytz>=2020.1 in /home/codespace/.local/lib/python3.10/site-packages (from pandas->gradio) (2023.3)\n",
            "Requirement already satisfied: tzdata>=2022.1 in /home/codespace/.local/lib/python3.10/site-packages (from pandas->gradio) (2023.3)\n",
            "Requirement already satisfied: attrs>=17.3.0 in /home/codespace/.local/lib/python3.10/site-packages (from aiohttp->gradio) (23.1.0)\n",
            "Requirement already satisfied: charset-normalizer<4.0,>=2.0 in /home/codespace/.local/lib/python3.10/site-packages (from aiohttp->gradio) (3.1.0)\n",
            "Requirement already satisfied: multidict<7.0,>=4.5 in /usr/local/python/3.10.4/lib/python3.10/site-packages (from aiohttp->gradio) (6.0.4)\n",
            "Requirement already satisfied: async-timeout<5.0,>=4.0.0a3 in /usr/local/python/3.10.4/lib/python3.10/site-packages (from aiohttp->gradio) (4.0.2)\n",
            "Requirement already satisfied: yarl<2.0,>=1.0 in /usr/local/python/3.10.4/lib/python3.10/site-packages (from aiohttp->gradio) (1.9.2)\n",
            "Requirement already satisfied: frozenlist>=1.1.1 in /usr/local/python/3.10.4/lib/python3.10/site-packages (from aiohttp->gradio) (1.3.3)\n",
            "Requirement already satisfied: aiosignal>=1.1.2 in /usr/local/python/3.10.4/lib/python3.10/site-packages (from aiohttp->gradio) (1.3.1)\n",
            "Requirement already satisfied: starlette<0.27.0,>=0.26.1 in /usr/local/python/3.10.4/lib/python3.10/site-packages (from fastapi->gradio) (0.26.1)\n",
            "Requirement already satisfied: certifi in /home/codespace/.local/lib/python3.10/site-packages (from httpx->gradio) (2022.12.7)\n",
            "Requirement already satisfied: httpcore<0.18.0,>=0.15.0 in /usr/local/python/3.10.4/lib/python3.10/site-packages (from httpx->gradio) (0.17.0)\n",
            "Requirement already satisfied: idna in /home/codespace/.local/lib/python3.10/site-packages (from httpx->gradio) (3.4)\n",
            "Requirement already satisfied: sniffio in /home/codespace/.local/lib/python3.10/site-packages (from httpx->gradio) (1.3.0)\n",
            "Requirement already satisfied: contourpy>=1.0.1 in /home/codespace/.local/lib/python3.10/site-packages (from matplotlib->gradio) (1.0.7)\n",
            "Requirement already satisfied: cycler>=0.10 in /home/codespace/.local/lib/python3.10/site-packages (from matplotlib->gradio) (0.11.0)\n",
            "Requirement already satisfied: fonttools>=4.22.0 in /home/codespace/.local/lib/python3.10/site-packages (from matplotlib->gradio) (4.39.3)\n",
            "Requirement already satisfied: kiwisolver>=1.0.1 in /home/codespace/.local/lib/python3.10/site-packages (from matplotlib->gradio) (1.4.4)\n",
            "Requirement already satisfied: pyparsing>=2.3.1 in /home/codespace/.local/lib/python3.10/site-packages (from matplotlib->gradio) (3.0.9)\n",
            "Requirement already satisfied: urllib3<1.27,>=1.21.1 in /home/codespace/.local/lib/python3.10/site-packages (from requests->gradio) (1.26.15)\n",
            "Requirement already satisfied: click>=7.0 in /usr/local/python/3.10.4/lib/python3.10/site-packages (from uvicorn->gradio) (8.1.3)\n",
            "Requirement already satisfied: h11>=0.8 in /usr/local/python/3.10.4/lib/python3.10/site-packages (from uvicorn->gradio) (0.14.0)\n",
            "Requirement already satisfied: anyio<5.0,>=3.0 in /home/codespace/.local/lib/python3.10/site-packages (from httpcore<0.18.0,>=0.15.0->httpx->gradio) (3.6.2)\n",
            "Requirement already satisfied: pyrsistent!=0.17.0,!=0.17.1,!=0.17.2,>=0.14.0 in /home/codespace/.local/lib/python3.10/site-packages (from jsonschema>=3.0->altair>=4.2.0->gradio) (0.19.3)\n",
            "Requirement already satisfied: uc-micro-py in /usr/local/python/3.10.4/lib/python3.10/site-packages (from linkify-it-py<3,>=1->markdown-it-py[linkify]>=2.0.0->gradio) (1.0.2)\n",
            "Requirement already satisfied: six>=1.5 in /home/codespace/.local/lib/python3.10/site-packages (from python-dateutil>=2.8.2->pandas->gradio) (1.16.0)\n",
            "Requirement already satisfied: pandas in /home/codespace/.local/lib/python3.10/site-packages (2.0.1)\n",
            "Requirement already satisfied: python-dateutil>=2.8.2 in /home/codespace/.local/lib/python3.10/site-packages (from pandas) (2.8.2)\n",
            "Requirement already satisfied: pytz>=2020.1 in /home/codespace/.local/lib/python3.10/site-packages (from pandas) (2023.3)\n",
            "Requirement already satisfied: tzdata>=2022.1 in /home/codespace/.local/lib/python3.10/site-packages (from pandas) (2023.3)\n",
            "Requirement already satisfied: numpy>=1.21.0 in /home/codespace/.local/lib/python3.10/site-packages (from pandas) (1.24.3)\n",
            "Requirement already satisfied: six>=1.5 in /home/codespace/.local/lib/python3.10/site-packages (from python-dateutil>=2.8.2->pandas) (1.16.0)\n",
            "Requirement already satisfied: db-sqlite3 in /usr/local/python/3.10.4/lib/python3.10/site-packages (0.0.1)\n",
            "Requirement already satisfied: db in /usr/local/python/3.10.4/lib/python3.10/site-packages (from db-sqlite3) (0.1.1)\n",
            "Requirement already satisfied: antiorm in /usr/local/python/3.10.4/lib/python3.10/site-packages (from db->db-sqlite3) (1.2.1)\n"
          ]
        }
      ],
      "source": [
        "!pip install gradio \n",
        "!pip install pandas\n",
        "!pip install db-sqlite3\n"
      ]
    },
    {
      "cell_type": "markdown",
      "metadata": {},
      "source": []
    },
    {
      "cell_type": "code",
      "execution_count": 8,
      "metadata": {
        "id": "haqAeqLi7wUG"
      },
      "outputs": [],
      "source": [
        "import sqlite3\n",
        "\n",
        "class Students_Data:\n",
        "    def __init__(self):    \n",
        "        con = sqlite3.connect(\"/workspaces/streamlit_exp/student_table.sqlite\")\n",
        "        self.c = con.cursor()\n",
        "        self.c.execute(\"select * from student_list\")\n",
        "        self.data = (self.c.fetchall())\n",
        "        self.c.execute(\"select COUNT(*) from student_list\")\n",
        "        self.total_count = (self.c.fetchone())\n",
        "        con.commit()\n",
        "        # con.close()\n",
        "    def delete_me(self,id):\n",
        "        self.c.execute(f\"DELETE from student_list where id_number = {id}\")\n",
        "        self.data = (self.c.fetchall())\n",
        "\n",
        "    def get_line(self):\n",
        "        self.c.execute(\"select * from student_list\")\n",
        "        self.data = (self.c.fetchall())\n",
        "\n",
        "    def update_me(self,name,id):\n",
        "        self.c.execute(f\"\"\"\n",
        "        UPDATE student_list SET \"name\"={name}\n",
        "        where id_number = {id} ;\n",
        "        \"\"\")\n",
        "        self.data = (self.c.fetchall())\n",
        "\n",
        "    def delete_me(self,id):\n",
        "        self.c.execute(f\"\"\"\n",
        "        DELETE where id_number={id}\n",
        "        \"\"\")\n",
        "        self.data = (self.c.fetchall())\n",
        "\n",
        "    def insert_me(self,name,id,age):\n",
        "        self.c.execute(f\"\"\"\n",
        "        INSERT INTO student_list (\"name \", id_number, age) VALUES('{name}', {id}, {age});\n",
        "        \"\"\")\n",
        "        \n",
        "        self.data = (self.c.fetchall())\n",
        "\n",
        "    def show_data(self):\n",
        "        self.c.execute(\"select * from student_list\")\n",
        "        for i in self.data():\n",
        "            print(i[1])\n",
        "\n",
        "obj = Students_Data()"
      ]
    },
    {
      "cell_type": "code",
      "execution_count": null,
      "metadata": {
        "id": "4UBbpXGs7wVX"
      },
      "outputs": [],
      "source": [
        "obj.delete_me(2001142)"
      ]
    },
    {
      "cell_type": "code",
      "execution_count": null,
      "metadata": {
        "id": "i9lzLG7o7wW1"
      },
      "outputs": [],
      "source": [
        "obj.get_line()"
      ]
    },
    {
      "cell_type": "code",
      "execution_count": null,
      "metadata": {
        "id": "KZdMSGTQ7wYE"
      },
      "outputs": [],
      "source": [
        "obj.data"
      ]
    },
    {
      "cell_type": "code",
      "execution_count": null,
      "metadata": {
        "id": "l-8n-qQ4k-OB"
      },
      "outputs": [],
      "source": [
        "obj.insert_me(\"parva\",1234,10)"
      ]
    },
    {
      "cell_type": "code",
      "execution_count": null,
      "metadata": {
        "id": "JZF17YZQnGdE"
      },
      "outputs": [],
      "source": [
        "obj.get_line()\n",
        "obj.data"
      ]
    },
    {
      "cell_type": "code",
      "execution_count": null,
      "metadata": {
        "id": "ZMy8fNdDk-X5"
      },
      "outputs": [],
      "source": [
        "obj.update_me(\"prakash\",1234)"
      ]
    },
    {
      "cell_type": "code",
      "execution_count": null,
      "metadata": {
        "id": "tLQjwTh17wZl"
      },
      "outputs": [],
      "source": [
        "obj.get_line()\n",
        "obj.data"
      ]
    },
    {
      "cell_type": "code",
      "execution_count": null,
      "metadata": {
        "id": "WRE4waNW7wa6"
      },
      "outputs": [],
      "source": [
        "obj.delete_me(1234)"
      ]
    },
    {
      "cell_type": "code",
      "execution_count": null,
      "metadata": {
        "id": "CEvZ5Me77wct"
      },
      "outputs": [],
      "source": [
        "obj.get_line()\n",
        "obj.data"
      ]
    },
    {
      "cell_type": "code",
      "execution_count": null,
      "metadata": {
        "id": "oyqaqSBK7weD"
      },
      "outputs": [],
      "source": [
        "import pandas as pd\n",
        "\n",
        "engine = create_engine(\"/content/student_table.sqlite\")\n",
        "\n",
        "data = pd.read_sql(\"id_number\", engine)\n",
        "\n",
        "data.head()\n"
      ]
    },
    {
      "cell_type": "code",
      "execution_count": null,
      "metadata": {
        "id": "Eo8Sqfed7wfr"
      },
      "outputs": [],
      "source": [
        "!pip install -U pandasql"
      ]
    },
    {
      "cell_type": "code",
      "execution_count": null,
      "metadata": {
        "id": "2XHukhdT7whR"
      },
      "outputs": [],
      "source": [
        "from pandasql import sqldf, load_meat, load_births"
      ]
    },
    {
      "cell_type": "code",
      "execution_count": null,
      "metadata": {
        "id": "aHzTkLeg7wiv"
      },
      "outputs": [],
      "source": [
        "pysqldf = lambda q: sqldf(q, globals())"
      ]
    },
    {
      "cell_type": "code",
      "execution_count": null,
      "metadata": {
        "id": "OLxYkQrZ7wll"
      },
      "outputs": [],
      "source": [
        "meat = load_meat()"
      ]
    },
    {
      "cell_type": "code",
      "execution_count": null,
      "metadata": {
        "id": "C1b_ZTXo7wmq"
      },
      "outputs": [],
      "source": [
        "births = load_births()"
      ]
    },
    {
      "cell_type": "code",
      "execution_count": null,
      "metadata": {
        "id": "sqmFtdQd7wpz"
      },
      "outputs": [],
      "source": [
        "print (pysqldf(\"SELECT * FROM meat LIMIT 10;\").head())"
      ]
    },
    {
      "cell_type": "code",
      "execution_count": null,
      "metadata": {
        "id": "9AQE0nuV7wrq"
      },
      "outputs": [],
      "source": [
        "import sqlite3\n",
        "import pandas as pd\n",
        "\n",
        "conn = sqlite3.connect('work.sqlite')\n",
        "cur = conn.cursor()\n",
        "conn.commit()"
      ]
    },
    {
      "cell_type": "code",
      "execution_count": null,
      "metadata": {
        "id": "NxBWMdur7wuv"
      },
      "outputs": [],
      "source": [
        "df = pd.read_sql('create table sales', conn)\n",
        "print(df)"
      ]
    },
    {
      "cell_type": "code",
      "execution_count": null,
      "metadata": {
        "id": "R0OVJj5N7wyd"
      },
      "outputs": [],
      "source": [
        "import sqlite3\n",
        "\n",
        "class Students_Data:\n",
        "    def __init__(self):    \n",
        "        con = sqlite3.connect(\"/workspaces/streamlit_exp/student_table.sqlite\")\n",
        "        self.c = con.cursor()\n",
        "        self.c.execute(\"select * from student_list\")\n",
        "        self.data = (self.c.fetchall())\n",
        "        self.c.execute(\"select COUNT(*) from student_list\")\n",
        "        self.total_count = (self.c.fetchone())\n",
        "        con.commit()\n",
        "        # con.close()\n",
        "    def delete_me(self,id):\n",
        "        self.c.execute(f\"DELETE from student_list where id_number = {id}\")\n",
        "        self.data = (self.c.fetchall())\n",
        "\n",
        "    def get_line(self):\n",
        "        self.c.execute(\"select * from student_list\")\n",
        "        self.data = (self.c.fetchall())\n",
        "\n",
        "    def update_me(self,name,id):\n",
        "        self.c.execute(f\"\"\"\n",
        "        UPDATE student_list SET \"name\"={name}\n",
        "        where id_number = {id} ;\n",
        "        \"\"\")\n",
        "        self.data = (self.c.fetchall())\n",
        "\n",
        "    def delete_me(self,id):\n",
        "        self.c.execute(f\"\"\"\n",
        "        DELETE where id_number={id}\n",
        "        \"\"\")\n",
        "        self.data = (self.c.fetchall())\n",
        "\n",
        "    def insert_me(self,name,id,age):\n",
        "        self.c.execute(f\"\"\"\n",
        "        INSERT INTO student_list (\"name \", id_number, age) VALUES('{name}', {id}, {age});\n",
        "        \"\"\")\n",
        "        \n",
        "        self.data = (self.c.fetchall())\n",
        "\n",
        "    def show_data(self):\n",
        "        self.c.execute(\"select * from student_list\")\n",
        "        for i in self.data():\n",
        "            print(i[1])\n",
        "\n",
        "obj = Students_Data()"
      ]
    },
    {
      "cell_type": "code",
      "execution_count": 15,
      "metadata": {
        "id": "oJy70I367w0w"
      },
      "outputs": [
        {
          "name": "stdout",
          "output_type": "stream",
          "text": [
            "Running on local URL:  http://127.0.0.1:7868\n",
            "Running on public URL: https://93ff021f19bc932708.gradio.live\n",
            "\n",
            "This share link expires in 72 hours. For free permanent hosting and GPU upgrades (NEW!), check out Spaces: https://huggingface.co/spaces\n"
          ]
        },
        {
          "data": {
            "text/html": [
              "<div><iframe src=\"https://93ff021f19bc932708.gradio.live\" width=\"100%\" height=\"500\" allow=\"autoplay; camera; microphone; clipboard-read; clipboard-write;\" frameborder=\"0\" allowfullscreen></iframe></div>"
            ],
            "text/plain": [
              "<IPython.core.display.HTML object>"
            ]
          },
          "metadata": {},
          "output_type": "display_data"
        },
        {
          "ename": "KeyError",
          "evalue": "75",
          "output_type": "error",
          "traceback": [
            "\u001b[0;31m---------------------------------------------------------------------------\u001b[0m",
            "\u001b[0;31mKeyError\u001b[0m                                  Traceback (most recent call last)",
            "Cell \u001b[0;32mIn[15], line 31\u001b[0m\n\u001b[1;32m     28\u001b[0m     list_name \u001b[39m=\u001b[39m gr\u001b[39m.\u001b[39mTextbox(\u001b[39m\"\u001b[39m\u001b[39menter id number\u001b[39m\u001b[39m\"\u001b[39m)\n\u001b[1;32m     29\u001b[0m     button\u001b[39m.\u001b[39mclick(fn\u001b[39m=\u001b[39mdelete_data,inputs\u001b[39m=\u001b[39m[\u001b[39mid\u001b[39m])\n\u001b[0;32m---> 31\u001b[0m box\u001b[39m.\u001b[39;49mlaunch(share\u001b[39m=\u001b[39;49m\u001b[39mTrue\u001b[39;49;00m)\n",
            "File \u001b[0;32m~/.python/current/lib/python3.10/site-packages/gradio/blocks.py:1890\u001b[0m, in \u001b[0;36mBlocks.launch\u001b[0;34m(self, inline, inbrowser, share, debug, enable_queue, max_threads, auth, auth_message, prevent_thread_lock, show_error, server_name, server_port, show_tips, height, width, encrypt, favicon_path, ssl_keyfile, ssl_certfile, ssl_keyfile_password, ssl_verify, quiet, show_api, file_directories, _frontend)\u001b[0m\n\u001b[1;32m   1877\u001b[0m     data \u001b[39m=\u001b[39m {\n\u001b[1;32m   1878\u001b[0m         \u001b[39m\"\u001b[39m\u001b[39mlaunch_method\u001b[39m\u001b[39m\"\u001b[39m: \u001b[39m\"\u001b[39m\u001b[39mbrowser\u001b[39m\u001b[39m\"\u001b[39m \u001b[39mif\u001b[39;00m inbrowser \u001b[39melse\u001b[39;00m \u001b[39m\"\u001b[39m\u001b[39minline\u001b[39m\u001b[39m\"\u001b[39m,\n\u001b[1;32m   1879\u001b[0m         \u001b[39m\"\u001b[39m\u001b[39mis_google_colab\u001b[39m\u001b[39m\"\u001b[39m: \u001b[39mself\u001b[39m\u001b[39m.\u001b[39mis_colab,\n\u001b[0;32m   (...)\u001b[0m\n\u001b[1;32m   1887\u001b[0m         \u001b[39m\"\u001b[39m\u001b[39mmode\u001b[39m\u001b[39m\"\u001b[39m: \u001b[39mself\u001b[39m\u001b[39m.\u001b[39mmode,\n\u001b[1;32m   1888\u001b[0m     }\n\u001b[1;32m   1889\u001b[0m     utils\u001b[39m.\u001b[39mlaunch_analytics(data)\n\u001b[0;32m-> 1890\u001b[0m     utils\u001b[39m.\u001b[39;49mlaunched_telemetry(\u001b[39mself\u001b[39;49m, data)\n\u001b[1;32m   1892\u001b[0m utils\u001b[39m.\u001b[39mshow_tip(\u001b[39mself\u001b[39m)\n\u001b[1;32m   1894\u001b[0m \u001b[39m# Block main thread if debug==True\u001b[39;00m\n",
            "File \u001b[0;32m~/.python/current/lib/python3.10/site-packages/gradio/utils.py:151\u001b[0m, in \u001b[0;36mlaunched_telemetry\u001b[0;34m(blocks, data)\u001b[0m\n\u001b[1;32m    147\u001b[0m \u001b[39mfor\u001b[39;00m x \u001b[39min\u001b[39;00m blocks\u001b[39m.\u001b[39mdependencies:\n\u001b[1;32m    148\u001b[0m     targets_telemetry \u001b[39m=\u001b[39m targets_telemetry \u001b[39m+\u001b[39m [\n\u001b[1;32m    149\u001b[0m         \u001b[39mstr\u001b[39m(blocks\u001b[39m.\u001b[39mblocks[y]) \u001b[39mfor\u001b[39;00m y \u001b[39min\u001b[39;00m x[\u001b[39m\"\u001b[39m\u001b[39mtargets\u001b[39m\u001b[39m\"\u001b[39m]\n\u001b[1;32m    150\u001b[0m     ]\n\u001b[0;32m--> 151\u001b[0m     inputs_telemetry \u001b[39m=\u001b[39m inputs_telemetry \u001b[39m+\u001b[39m [\n\u001b[1;32m    152\u001b[0m         \u001b[39mstr\u001b[39m(blocks\u001b[39m.\u001b[39mblocks[y]) \u001b[39mfor\u001b[39;00m y \u001b[39min\u001b[39;00m x[\u001b[39m\"\u001b[39m\u001b[39minputs\u001b[39m\u001b[39m\"\u001b[39m]\n\u001b[1;32m    153\u001b[0m     ]\n\u001b[1;32m    154\u001b[0m     outputs_telemetry \u001b[39m=\u001b[39m outputs_telemetry \u001b[39m+\u001b[39m [\n\u001b[1;32m    155\u001b[0m         \u001b[39mstr\u001b[39m(blocks\u001b[39m.\u001b[39mblocks[y]) \u001b[39mfor\u001b[39;00m y \u001b[39min\u001b[39;00m x[\u001b[39m\"\u001b[39m\u001b[39moutputs\u001b[39m\u001b[39m\"\u001b[39m]\n\u001b[1;32m    156\u001b[0m     ]\n\u001b[1;32m    157\u001b[0m additional_data \u001b[39m=\u001b[39m {\n\u001b[1;32m    158\u001b[0m     \u001b[39m\"\u001b[39m\u001b[39mversion\u001b[39m\u001b[39m\"\u001b[39m: GRADIO_VERSION,\n\u001b[1;32m    159\u001b[0m     \u001b[39m\"\u001b[39m\u001b[39mis_kaggle\u001b[39m\u001b[39m\"\u001b[39m: blocks\u001b[39m.\u001b[39mis_kaggle,\n\u001b[0;32m   (...)\u001b[0m\n\u001b[1;32m    174\u001b[0m     \u001b[39m\"\u001b[39m\u001b[39mevents\u001b[39m\u001b[39m\"\u001b[39m: [\u001b[39mstr\u001b[39m(x[\u001b[39m\"\u001b[39m\u001b[39mtrigger\u001b[39m\u001b[39m\"\u001b[39m]) \u001b[39mfor\u001b[39;00m x \u001b[39min\u001b[39;00m blocks\u001b[39m.\u001b[39mdependencies],\n\u001b[1;32m    175\u001b[0m }\n",
            "File \u001b[0;32m~/.python/current/lib/python3.10/site-packages/gradio/utils.py:152\u001b[0m, in \u001b[0;36m<listcomp>\u001b[0;34m(.0)\u001b[0m\n\u001b[1;32m    147\u001b[0m \u001b[39mfor\u001b[39;00m x \u001b[39min\u001b[39;00m blocks\u001b[39m.\u001b[39mdependencies:\n\u001b[1;32m    148\u001b[0m     targets_telemetry \u001b[39m=\u001b[39m targets_telemetry \u001b[39m+\u001b[39m [\n\u001b[1;32m    149\u001b[0m         \u001b[39mstr\u001b[39m(blocks\u001b[39m.\u001b[39mblocks[y]) \u001b[39mfor\u001b[39;00m y \u001b[39min\u001b[39;00m x[\u001b[39m\"\u001b[39m\u001b[39mtargets\u001b[39m\u001b[39m\"\u001b[39m]\n\u001b[1;32m    150\u001b[0m     ]\n\u001b[1;32m    151\u001b[0m     inputs_telemetry \u001b[39m=\u001b[39m inputs_telemetry \u001b[39m+\u001b[39m [\n\u001b[0;32m--> 152\u001b[0m         \u001b[39mstr\u001b[39m(blocks\u001b[39m.\u001b[39;49mblocks[y]) \u001b[39mfor\u001b[39;00m y \u001b[39min\u001b[39;00m x[\u001b[39m\"\u001b[39m\u001b[39minputs\u001b[39m\u001b[39m\"\u001b[39m]\n\u001b[1;32m    153\u001b[0m     ]\n\u001b[1;32m    154\u001b[0m     outputs_telemetry \u001b[39m=\u001b[39m outputs_telemetry \u001b[39m+\u001b[39m [\n\u001b[1;32m    155\u001b[0m         \u001b[39mstr\u001b[39m(blocks\u001b[39m.\u001b[39mblocks[y]) \u001b[39mfor\u001b[39;00m y \u001b[39min\u001b[39;00m x[\u001b[39m\"\u001b[39m\u001b[39moutputs\u001b[39m\u001b[39m\"\u001b[39m]\n\u001b[1;32m    156\u001b[0m     ]\n\u001b[1;32m    157\u001b[0m additional_data \u001b[39m=\u001b[39m {\n\u001b[1;32m    158\u001b[0m     \u001b[39m\"\u001b[39m\u001b[39mversion\u001b[39m\u001b[39m\"\u001b[39m: GRADIO_VERSION,\n\u001b[1;32m    159\u001b[0m     \u001b[39m\"\u001b[39m\u001b[39mis_kaggle\u001b[39m\u001b[39m\"\u001b[39m: blocks\u001b[39m.\u001b[39mis_kaggle,\n\u001b[0;32m   (...)\u001b[0m\n\u001b[1;32m    174\u001b[0m     \u001b[39m\"\u001b[39m\u001b[39mevents\u001b[39m\u001b[39m\"\u001b[39m: [\u001b[39mstr\u001b[39m(x[\u001b[39m\"\u001b[39m\u001b[39mtrigger\u001b[39m\u001b[39m\"\u001b[39m]) \u001b[39mfor\u001b[39;00m x \u001b[39min\u001b[39;00m blocks\u001b[39m.\u001b[39mdependencies],\n\u001b[1;32m    175\u001b[0m }\n",
            "\u001b[0;31mKeyError\u001b[0m: 75"
          ]
        }
      ],
      "source": [
        "import gradio as gr\n",
        "import pandas as pd\n",
        "import sqlite3\n",
        "\n",
        "box = gr.Blocks()\n",
        "\n",
        "def get_all_data():\n",
        "  con = sqlite3.connect(\"/workspaces/streamlit_exp/student_table.sqlite\")\n",
        "  df = pd.read_sql_query(\"select * from student_list\",con)\n",
        "  return(df)\n",
        "\n",
        "# def update_list(name, id):\n",
        "#   con = sqlite3.connect(\"/workspaces/streamlit_exp/student_table.sqlite\")\n",
        "#   df = pd.read_sql_query(f\"UPDATE student_list SET \"name\"={name}where id_number = {id};\",con)\n",
        "#   return df\n",
        "\n",
        "def delete_data(list_name):\n",
        "  con = sqlite3.connect(\"/workspaces/streamlit_exp/student_table.sqlite\")\n",
        "  df = pd.read_sql_query(\"DELETE FROM student_list where id_number={list_name}\",con)\n",
        "  return(df)\n",
        "\n",
        "\n",
        "with box:\n",
        "  with gr.Tab(\"get all data\"):\n",
        "    button = gr.Button(\"press me\")\n",
        "    button.click(fn=get_all_data,outputs=[gr.DataFrame()])\n",
        "  with gr.Tab(\"delete\"):\n",
        "    list_name = gr.Textbox(\"enter id number\")\n",
        "    button.click(fn=delete_data,inputs=[id])\n",
        "\n",
        "box.launch(share=True)"
      ]
    },
    {
      "cell_type": "code",
      "execution_count": 2,
      "metadata": {},
      "outputs": [
        {
          "ename": "AttributeError",
          "evalue": "'builtin_function_or_method' object has no attribute '_id'",
          "output_type": "error",
          "traceback": [
            "\u001b[0;31m---------------------------------------------------------------------------\u001b[0m",
            "\u001b[0;31mAttributeError\u001b[0m                            Traceback (most recent call last)",
            "Cell \u001b[0;32mIn[2], line 26\u001b[0m\n\u001b[1;32m     24\u001b[0m   \u001b[39mwith\u001b[39;00m gr\u001b[39m.\u001b[39mTab(\u001b[39m\"\u001b[39m\u001b[39mdelete\u001b[39m\u001b[39m\"\u001b[39m):\n\u001b[1;32m     25\u001b[0m     list_name \u001b[39m=\u001b[39m gr\u001b[39m.\u001b[39mTextbox(\u001b[39m\"\u001b[39m\u001b[39menter id number\u001b[39m\u001b[39m\"\u001b[39m)\n\u001b[0;32m---> 26\u001b[0m     button\u001b[39m.\u001b[39;49mclick(fn\u001b[39m=\u001b[39;49mdelete_data,inputs\u001b[39m=\u001b[39;49m[\u001b[39mid\u001b[39;49m],outputs\u001b[39m=\u001b[39;49m[gr\u001b[39m.\u001b[39;49mLabel()])\n\u001b[1;32m     28\u001b[0m box\u001b[39m.\u001b[39mlaunch(share\u001b[39m=\u001b[39m\u001b[39mTrue\u001b[39;00m)\n",
            "File \u001b[0;32m~/.python/current/lib/python3.10/site-packages/gradio/events.py:132\u001b[0m, in \u001b[0;36mEventListenerMethod.__call__\u001b[0;34m(self, fn, inputs, outputs, api_name, status_tracker, scroll_to_output, show_progress, queue, batch, max_batch_size, preprocess, postprocess, cancels, every, _js)\u001b[0m\n\u001b[1;32m    129\u001b[0m \u001b[39mif\u001b[39;00m \u001b[39misinstance\u001b[39m(\u001b[39mself\u001b[39m, Streamable):\n\u001b[1;32m    130\u001b[0m     \u001b[39mself\u001b[39m\u001b[39m.\u001b[39mcheck_streamable()\n\u001b[0;32m--> 132\u001b[0m dep, dep_index \u001b[39m=\u001b[39m \u001b[39mself\u001b[39;49m\u001b[39m.\u001b[39;49mtrigger\u001b[39m.\u001b[39;49mset_event_trigger(\n\u001b[1;32m    133\u001b[0m     \u001b[39mself\u001b[39;49m\u001b[39m.\u001b[39;49mevent_name,\n\u001b[1;32m    134\u001b[0m     fn,\n\u001b[1;32m    135\u001b[0m     inputs,\n\u001b[1;32m    136\u001b[0m     outputs,\n\u001b[1;32m    137\u001b[0m     preprocess\u001b[39m=\u001b[39;49mpreprocess,\n\u001b[1;32m    138\u001b[0m     postprocess\u001b[39m=\u001b[39;49mpostprocess,\n\u001b[1;32m    139\u001b[0m     scroll_to_output\u001b[39m=\u001b[39;49mscroll_to_output,\n\u001b[1;32m    140\u001b[0m     show_progress\u001b[39m=\u001b[39;49mshow_progress\n\u001b[1;32m    141\u001b[0m     \u001b[39mif\u001b[39;49;00m show_progress \u001b[39mis\u001b[39;49;00m \u001b[39mnot\u001b[39;49;00m \u001b[39mNone\u001b[39;49;00m\n\u001b[1;32m    142\u001b[0m     \u001b[39melse\u001b[39;49;00m \u001b[39mself\u001b[39;49m\u001b[39m.\u001b[39;49mshow_progress,\n\u001b[1;32m    143\u001b[0m     api_name\u001b[39m=\u001b[39;49mapi_name,\n\u001b[1;32m    144\u001b[0m     js\u001b[39m=\u001b[39;49m_js,\n\u001b[1;32m    145\u001b[0m     queue\u001b[39m=\u001b[39;49mqueue,\n\u001b[1;32m    146\u001b[0m     batch\u001b[39m=\u001b[39;49mbatch,\n\u001b[1;32m    147\u001b[0m     max_batch_size\u001b[39m=\u001b[39;49mmax_batch_size,\n\u001b[1;32m    148\u001b[0m     every\u001b[39m=\u001b[39;49mevery,\n\u001b[1;32m    149\u001b[0m     trigger_after\u001b[39m=\u001b[39;49m\u001b[39mself\u001b[39;49m\u001b[39m.\u001b[39;49mtrigger_after,\n\u001b[1;32m    150\u001b[0m     trigger_only_on_success\u001b[39m=\u001b[39;49m\u001b[39mself\u001b[39;49m\u001b[39m.\u001b[39;49mtrigger_only_on_success,\n\u001b[1;32m    151\u001b[0m )\n\u001b[1;32m    152\u001b[0m set_cancel_events(\u001b[39mself\u001b[39m\u001b[39m.\u001b[39mtrigger, \u001b[39mself\u001b[39m\u001b[39m.\u001b[39mevent_name, cancels)\n\u001b[1;32m    153\u001b[0m \u001b[39mif\u001b[39;00m \u001b[39mself\u001b[39m\u001b[39m.\u001b[39mcallback:\n",
            "File \u001b[0;32m~/.python/current/lib/python3.10/site-packages/gradio/blocks.py:264\u001b[0m, in \u001b[0;36mBlock.set_event_trigger\u001b[0;34m(self, event_name, fn, inputs, outputs, preprocess, postprocess, scroll_to_output, show_progress, api_name, js, no_target, queue, batch, max_batch_size, cancels, every, collects_event_data, trigger_after, trigger_only_on_success)\u001b[0m\n\u001b[1;32m    258\u001b[0m \u001b[39mif\u001b[39;00m collects_event_data \u001b[39mis\u001b[39;00m \u001b[39mNone\u001b[39;00m:\n\u001b[1;32m    259\u001b[0m     collects_event_data \u001b[39m=\u001b[39m event_data_index \u001b[39mis\u001b[39;00m \u001b[39mnot\u001b[39;00m \u001b[39mNone\u001b[39;00m\n\u001b[1;32m    261\u001b[0m dependency \u001b[39m=\u001b[39m {\n\u001b[1;32m    262\u001b[0m     \u001b[39m\"\u001b[39m\u001b[39mtargets\u001b[39m\u001b[39m\"\u001b[39m: [\u001b[39mself\u001b[39m\u001b[39m.\u001b[39m_id] \u001b[39mif\u001b[39;00m \u001b[39mnot\u001b[39;00m no_target \u001b[39melse\u001b[39;00m [],\n\u001b[1;32m    263\u001b[0m     \u001b[39m\"\u001b[39m\u001b[39mtrigger\u001b[39m\u001b[39m\"\u001b[39m: event_name,\n\u001b[0;32m--> 264\u001b[0m     \u001b[39m\"\u001b[39m\u001b[39minputs\u001b[39m\u001b[39m\"\u001b[39m: [block\u001b[39m.\u001b[39m_id \u001b[39mfor\u001b[39;00m block \u001b[39min\u001b[39;00m inputs],\n\u001b[1;32m    265\u001b[0m     \u001b[39m\"\u001b[39m\u001b[39moutputs\u001b[39m\u001b[39m\"\u001b[39m: [block\u001b[39m.\u001b[39m_id \u001b[39mfor\u001b[39;00m block \u001b[39min\u001b[39;00m outputs],\n\u001b[1;32m    266\u001b[0m     \u001b[39m\"\u001b[39m\u001b[39mbackend_fn\u001b[39m\u001b[39m\"\u001b[39m: fn \u001b[39mis\u001b[39;00m \u001b[39mnot\u001b[39;00m \u001b[39mNone\u001b[39;00m,\n\u001b[1;32m    267\u001b[0m     \u001b[39m\"\u001b[39m\u001b[39mjs\u001b[39m\u001b[39m\"\u001b[39m: js,\n\u001b[1;32m    268\u001b[0m     \u001b[39m\"\u001b[39m\u001b[39mqueue\u001b[39m\u001b[39m\"\u001b[39m: \u001b[39mFalse\u001b[39;00m \u001b[39mif\u001b[39;00m fn \u001b[39mis\u001b[39;00m \u001b[39mNone\u001b[39;00m \u001b[39melse\u001b[39;00m queue,\n\u001b[1;32m    269\u001b[0m     \u001b[39m\"\u001b[39m\u001b[39mapi_name\u001b[39m\u001b[39m\"\u001b[39m: api_name,\n\u001b[1;32m    270\u001b[0m     \u001b[39m\"\u001b[39m\u001b[39mscroll_to_output\u001b[39m\u001b[39m\"\u001b[39m: scroll_to_output,\n\u001b[1;32m    271\u001b[0m     \u001b[39m\"\u001b[39m\u001b[39mshow_progress\u001b[39m\u001b[39m\"\u001b[39m: show_progress,\n\u001b[1;32m    272\u001b[0m     \u001b[39m\"\u001b[39m\u001b[39mevery\u001b[39m\u001b[39m\"\u001b[39m: every,\n\u001b[1;32m    273\u001b[0m     \u001b[39m\"\u001b[39m\u001b[39mbatch\u001b[39m\u001b[39m\"\u001b[39m: batch,\n\u001b[1;32m    274\u001b[0m     \u001b[39m\"\u001b[39m\u001b[39mmax_batch_size\u001b[39m\u001b[39m\"\u001b[39m: max_batch_size,\n\u001b[1;32m    275\u001b[0m     \u001b[39m\"\u001b[39m\u001b[39mcancels\u001b[39m\u001b[39m\"\u001b[39m: cancels \u001b[39mor\u001b[39;00m [],\n\u001b[1;32m    276\u001b[0m     \u001b[39m\"\u001b[39m\u001b[39mtypes\u001b[39m\u001b[39m\"\u001b[39m: {\n\u001b[1;32m    277\u001b[0m         \u001b[39m\"\u001b[39m\u001b[39mcontinuous\u001b[39m\u001b[39m\"\u001b[39m: \u001b[39mbool\u001b[39m(every),\n\u001b[1;32m    278\u001b[0m         \u001b[39m\"\u001b[39m\u001b[39mgenerator\u001b[39m\u001b[39m\"\u001b[39m: inspect\u001b[39m.\u001b[39misgeneratorfunction(fn) \u001b[39mor\u001b[39;00m \u001b[39mbool\u001b[39m(every),\n\u001b[1;32m    279\u001b[0m     },\n\u001b[1;32m    280\u001b[0m     \u001b[39m\"\u001b[39m\u001b[39mcollects_event_data\u001b[39m\u001b[39m\"\u001b[39m: collects_event_data,\n\u001b[1;32m    281\u001b[0m     \u001b[39m\"\u001b[39m\u001b[39mtrigger_after\u001b[39m\u001b[39m\"\u001b[39m: trigger_after,\n\u001b[1;32m    282\u001b[0m     \u001b[39m\"\u001b[39m\u001b[39mtrigger_only_on_success\u001b[39m\u001b[39m\"\u001b[39m: trigger_only_on_success,\n\u001b[1;32m    283\u001b[0m }\n\u001b[1;32m    284\u001b[0m Context\u001b[39m.\u001b[39mroot_block\u001b[39m.\u001b[39mdependencies\u001b[39m.\u001b[39mappend(dependency)\n\u001b[1;32m    285\u001b[0m \u001b[39mreturn\u001b[39;00m dependency, \u001b[39mlen\u001b[39m(Context\u001b[39m.\u001b[39mroot_block\u001b[39m.\u001b[39mdependencies) \u001b[39m-\u001b[39m \u001b[39m1\u001b[39m\n",
            "File \u001b[0;32m~/.python/current/lib/python3.10/site-packages/gradio/blocks.py:264\u001b[0m, in \u001b[0;36m<listcomp>\u001b[0;34m(.0)\u001b[0m\n\u001b[1;32m    258\u001b[0m \u001b[39mif\u001b[39;00m collects_event_data \u001b[39mis\u001b[39;00m \u001b[39mNone\u001b[39;00m:\n\u001b[1;32m    259\u001b[0m     collects_event_data \u001b[39m=\u001b[39m event_data_index \u001b[39mis\u001b[39;00m \u001b[39mnot\u001b[39;00m \u001b[39mNone\u001b[39;00m\n\u001b[1;32m    261\u001b[0m dependency \u001b[39m=\u001b[39m {\n\u001b[1;32m    262\u001b[0m     \u001b[39m\"\u001b[39m\u001b[39mtargets\u001b[39m\u001b[39m\"\u001b[39m: [\u001b[39mself\u001b[39m\u001b[39m.\u001b[39m_id] \u001b[39mif\u001b[39;00m \u001b[39mnot\u001b[39;00m no_target \u001b[39melse\u001b[39;00m [],\n\u001b[1;32m    263\u001b[0m     \u001b[39m\"\u001b[39m\u001b[39mtrigger\u001b[39m\u001b[39m\"\u001b[39m: event_name,\n\u001b[0;32m--> 264\u001b[0m     \u001b[39m\"\u001b[39m\u001b[39minputs\u001b[39m\u001b[39m\"\u001b[39m: [block\u001b[39m.\u001b[39;49m_id \u001b[39mfor\u001b[39;00m block \u001b[39min\u001b[39;00m inputs],\n\u001b[1;32m    265\u001b[0m     \u001b[39m\"\u001b[39m\u001b[39moutputs\u001b[39m\u001b[39m\"\u001b[39m: [block\u001b[39m.\u001b[39m_id \u001b[39mfor\u001b[39;00m block \u001b[39min\u001b[39;00m outputs],\n\u001b[1;32m    266\u001b[0m     \u001b[39m\"\u001b[39m\u001b[39mbackend_fn\u001b[39m\u001b[39m\"\u001b[39m: fn \u001b[39mis\u001b[39;00m \u001b[39mnot\u001b[39;00m \u001b[39mNone\u001b[39;00m,\n\u001b[1;32m    267\u001b[0m     \u001b[39m\"\u001b[39m\u001b[39mjs\u001b[39m\u001b[39m\"\u001b[39m: js,\n\u001b[1;32m    268\u001b[0m     \u001b[39m\"\u001b[39m\u001b[39mqueue\u001b[39m\u001b[39m\"\u001b[39m: \u001b[39mFalse\u001b[39;00m \u001b[39mif\u001b[39;00m fn \u001b[39mis\u001b[39;00m \u001b[39mNone\u001b[39;00m \u001b[39melse\u001b[39;00m queue,\n\u001b[1;32m    269\u001b[0m     \u001b[39m\"\u001b[39m\u001b[39mapi_name\u001b[39m\u001b[39m\"\u001b[39m: api_name,\n\u001b[1;32m    270\u001b[0m     \u001b[39m\"\u001b[39m\u001b[39mscroll_to_output\u001b[39m\u001b[39m\"\u001b[39m: scroll_to_output,\n\u001b[1;32m    271\u001b[0m     \u001b[39m\"\u001b[39m\u001b[39mshow_progress\u001b[39m\u001b[39m\"\u001b[39m: show_progress,\n\u001b[1;32m    272\u001b[0m     \u001b[39m\"\u001b[39m\u001b[39mevery\u001b[39m\u001b[39m\"\u001b[39m: every,\n\u001b[1;32m    273\u001b[0m     \u001b[39m\"\u001b[39m\u001b[39mbatch\u001b[39m\u001b[39m\"\u001b[39m: batch,\n\u001b[1;32m    274\u001b[0m     \u001b[39m\"\u001b[39m\u001b[39mmax_batch_size\u001b[39m\u001b[39m\"\u001b[39m: max_batch_size,\n\u001b[1;32m    275\u001b[0m     \u001b[39m\"\u001b[39m\u001b[39mcancels\u001b[39m\u001b[39m\"\u001b[39m: cancels \u001b[39mor\u001b[39;00m [],\n\u001b[1;32m    276\u001b[0m     \u001b[39m\"\u001b[39m\u001b[39mtypes\u001b[39m\u001b[39m\"\u001b[39m: {\n\u001b[1;32m    277\u001b[0m         \u001b[39m\"\u001b[39m\u001b[39mcontinuous\u001b[39m\u001b[39m\"\u001b[39m: \u001b[39mbool\u001b[39m(every),\n\u001b[1;32m    278\u001b[0m         \u001b[39m\"\u001b[39m\u001b[39mgenerator\u001b[39m\u001b[39m\"\u001b[39m: inspect\u001b[39m.\u001b[39misgeneratorfunction(fn) \u001b[39mor\u001b[39;00m \u001b[39mbool\u001b[39m(every),\n\u001b[1;32m    279\u001b[0m     },\n\u001b[1;32m    280\u001b[0m     \u001b[39m\"\u001b[39m\u001b[39mcollects_event_data\u001b[39m\u001b[39m\"\u001b[39m: collects_event_data,\n\u001b[1;32m    281\u001b[0m     \u001b[39m\"\u001b[39m\u001b[39mtrigger_after\u001b[39m\u001b[39m\"\u001b[39m: trigger_after,\n\u001b[1;32m    282\u001b[0m     \u001b[39m\"\u001b[39m\u001b[39mtrigger_only_on_success\u001b[39m\u001b[39m\"\u001b[39m: trigger_only_on_success,\n\u001b[1;32m    283\u001b[0m }\n\u001b[1;32m    284\u001b[0m Context\u001b[39m.\u001b[39mroot_block\u001b[39m.\u001b[39mdependencies\u001b[39m.\u001b[39mappend(dependency)\n\u001b[1;32m    285\u001b[0m \u001b[39mreturn\u001b[39;00m dependency, \u001b[39mlen\u001b[39m(Context\u001b[39m.\u001b[39mroot_block\u001b[39m.\u001b[39mdependencies) \u001b[39m-\u001b[39m \u001b[39m1\u001b[39m\n",
            "\u001b[0;31mAttributeError\u001b[0m: 'builtin_function_or_method' object has no attribute '_id'"
          ]
        }
      ],
      "source": [
        "import gradio as gr\n",
        "import pandas as pd\n",
        "import sqlite3\n",
        "\n",
        "box = gr.Blocks()\n",
        "\n",
        "def get_all_data():\n",
        "  con = sqlite3.connect(\"/workspaces/streamlit_exp/student_table.sqlite\")\n",
        "  df = pd.read_sql_query(\"select * from student_list\",con)\n",
        "  return(df)\n",
        "\n",
        "# def update_list(name, id):\n",
        "#   con = sqlite3.connect(\"/workspaces/streamlit_exp/student_table.sqlite\")\n",
        "#   df = pd.read_sql_query(f\"UPDATE student_list SET \"name\"={name}where id_number = {id};\",con)\n",
        "#   return df\n",
        "\n",
        "def delete_data(list_name):\n",
        "    return list_name\n",
        "\n",
        "with box:\n",
        "  with gr.Tab(\"get all data\"):\n",
        "    button = gr.Button(\"press me\")\n",
        "    button.click(fn=get_all_data,outputs=[gr.DataFrame()])\n",
        "  with gr.Tab(\"delete\"):\n",
        "    list_name = gr.Textbox(\"enter id number\")\n",
        "    button.click(fn=delete_data,inputs=[id],outputs=[gr.Label()])\n",
        "\n",
        "box.launch(share=True)"
      ]
    },
    {
      "cell_type": "code",
      "execution_count": 24,
      "metadata": {},
      "outputs": [
        {
          "name": "stdout",
          "output_type": "stream",
          "text": [
            "    name    id_number  age\n",
            "0  mantra     2006125   17\n",
            "1   shaan     2001142   78\n",
            "2    dhun     8234234   15\n",
            "3    sver  2048304982   10\n",
            "4  sholok    13221344   16\n"
          ]
        }
      ],
      "source": [
        "con = sqlite3.connect(\"/workspaces/streamlit_exp/student_table.sqlite\")\n",
        "df = pd.read_sql_query(\"select * from student_list\",con)\n",
        "print(df)\n"
      ]
    },
    {
      "cell_type": "code",
      "execution_count": null,
      "metadata": {},
      "outputs": [],
      "source": []
    },
    {
      "cell_type": "code",
      "execution_count": null,
      "metadata": {},
      "outputs": [],
      "source": []
    },
    {
      "cell_type": "code",
      "execution_count": 9,
      "metadata": {
        "id": "LYelxDso7w2E"
      },
      "outputs": [
        {
          "name": "stderr",
          "output_type": "stream",
          "text": [
            "/home/codespace/.python/current/lib/python3.10/site-packages/gradio/utils.py:880: UserWarning: Expected 4 arguments for function <function fake at 0x7feee1c764d0>, received 0.\n",
            "  warnings.warn(\n",
            "/home/codespace/.python/current/lib/python3.10/site-packages/gradio/utils.py:884: UserWarning: Expected at least 4 arguments for function <function fake at 0x7feee1c764d0>, received 0.\n",
            "  warnings.warn(\n"
          ]
        },
        {
          "name": "stdout",
          "output_type": "stream",
          "text": [
            "Running on local URL:  http://127.0.0.1:7864\n",
            "\n",
            "To create a public link, set `share=True` in `launch()`.\n"
          ]
        },
        {
          "data": {
            "text/html": [
              "<div><iframe src=\"http://127.0.0.1:7864/\" width=\"100%\" height=\"500\" allow=\"autoplay; camera; microphone; clipboard-read; clipboard-write;\" frameborder=\"0\" allowfullscreen></iframe></div>"
            ],
            "text/plain": [
              "<IPython.core.display.HTML object>"
            ]
          },
          "metadata": {},
          "output_type": "display_data"
        },
        {
          "data": {
            "text/plain": []
          },
          "execution_count": 9,
          "metadata": {},
          "output_type": "execute_result"
        }
      ],
      "source": [
        "import gradio as gr\n",
        "\n",
        "box = gr.Blocks()\n",
        "def fake(x,y,z,c):\n",
        "    return(\"hello\")\n",
        "\n",
        "with box:\n",
        "  button = gr.Button(\"press me\")\n",
        "  button.click(fn=fake,outputs=[gr.Label()])\n",
        "\n",
        "box.launch()"
      ]
    },
    {
      "cell_type": "code",
      "execution_count": null,
      "metadata": {
        "id": "CNz2KMCA7w7e"
      },
      "outputs": [],
      "source": []
    }
  ],
  "metadata": {
    "colab": {
      "private_outputs": true,
      "provenance": []
    },
    "kernelspec": {
      "display_name": "Python 3",
      "name": "python3"
    },
    "language_info": {
      "codemirror_mode": {
        "name": "ipython",
        "version": 3
      },
      "file_extension": ".py",
      "mimetype": "text/x-python",
      "name": "python",
      "nbconvert_exporter": "python",
      "pygments_lexer": "ipython3",
      "version": "3.10.4"
    }
  },
  "nbformat": 4,
  "nbformat_minor": 0
}
