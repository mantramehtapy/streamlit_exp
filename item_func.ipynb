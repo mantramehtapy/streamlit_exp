{
 "cells": [
  {
   "cell_type": "code",
   "execution_count": 5,
   "metadata": {},
   "outputs": [],
   "source": [
    "import sqlite3\n",
    "\n",
    "class Item_Data:\n",
    "    def __init__(self):    \n",
    "        con = sqlite3.connect(\"/workspaces/streamlit_exp/items.db\")\n",
    "        self.c = con.cursor()\n",
    "        self.c.execute(\"select * from student_list\")\n",
    "        self.data = (self.c.fetchall())\n",
    "        self.c.execute(\"select COUNT(*) from student_list\")\n",
    "        self.total_count = (self.c.fetchone())\n",
    "        con.commit()\n",
    "        # con.close()\n",
    "    def delete_me(self,id):\n",
    "        self.c.execute(f\"DELETE from student_list where id = {id}\")\n",
    "        \n",
    "        self.data = (self.c.fetchall())\n",
    "\n",
    "    def get_line(self):\n",
    "        self.c.execute(\"select * from student_list\")\n",
    "        self.data = (self.c.fetchall())\n",
    "\n",
    "    def update_me(self,name,id):\n",
    "        self.c.execute(f\"\"\"\n",
    "        UPDATE student_list SET \"item_name\"={name}\n",
    "        where id = {id} ;\n",
    "        \"\"\")\n",
    "        self.data = (self.c.fetchall())\n",
    "\n",
    "    def delete_me(self,id):\n",
    "        self.c.execute(f\"\"\"\n",
    "        DELETE where id={id}\n",
    "        \"\"\")\n",
    "        self.data = (self.c.fetchall())\n",
    "\n",
    "    def insert_me(self,name,id,price):\n",
    "        self.c.execute(f\"\"\"\n",
    "        INSERT INTO student_list (\"item_name \", id, price) VALUES('{name}', {id}, {price});\n",
    "        \"\"\")\n",
    "        \n",
    "        self.data = (self.c.fetchall())\n",
    "\n",
    "    def show_data(self):\n",
    "        self.c.execute(\"select * from student_list\")\n",
    "        for i in self.data():\n",
    "            print(i[1])\n",
    "\n",
    "obj = Item_Data()\n",
    "\n"
   ]
  },
  {
   "cell_type": "code",
   "execution_count": 7,
   "metadata": {},
   "outputs": [],
   "source": [
    "import sqlite3\n",
    "\n",
    "class Item_Data():\n",
    "    def __init__(self):\n",
    "        con = sqlite3.connect(\"/workspaces/streamlit_exp/items.db\")\n",
    "        self.c = con.cursor()\n",
    "\n",
    "\n",
    "    def get_line(self):\n",
    "        self.c.execute(\"select * from item_list\")\n",
    "        return (self.c.fetchall())\n",
    "\n",
    "    def insert_me(self, id, name, price):\n",
    "        try:\n",
    "            self.con = sqlite3.connect(\"/workspaces/streamlit_exp/items.db\")\n",
    "            self.c = con.cursor()\n",
    "            sql = f\"\"\"\n",
    "            INSERT INTO item_list (id, item_name, price) VALUES({id}, '{name}', {price});\n",
    "            \"\"\"\n",
    "            print(sql)\n",
    "            self.c.execute(sql)\n",
    "        except Exception as ex:\n",
    "\n",
    "            print(ex)\n",
    "\n",
    "    def update_me(self,name,id):\n",
    "        self.c.execute(f\"\"\"\n",
    "        UPDATE item_list SET \"item_name\"={name}\n",
    "        where id = {id} ;\n",
    "        \"\"\")\n",
    "        \n",
    "    def delete_me(self,id):\n",
    "        self.c.execute(f\"\"\"\n",
    "       DELETE FROM item_list WHERE id={id};\n",
    "        \"\"\")\n",
    "        self.data = (self.c.fetchall())\n",
    "\n",
    "obj = Item_Data()"
   ]
  },
  {
   "cell_type": "code",
   "execution_count": 8,
   "metadata": {},
   "outputs": [
    {
     "ename": "OperationalError",
     "evalue": "no such column: man",
     "output_type": "error",
     "traceback": [
      "\u001b[0;31m---------------------------------------------------------------------------\u001b[0m",
      "\u001b[0;31mOperationalError\u001b[0m                          Traceback (most recent call last)",
      "Cell \u001b[0;32mIn[8], line 1\u001b[0m\n\u001b[0;32m----> 1\u001b[0m obj\u001b[39m.\u001b[39;49mupdate_me(\u001b[39m4\u001b[39;49m,\u001b[39m\"\u001b[39;49m\u001b[39mman\u001b[39;49m\u001b[39m\"\u001b[39;49m)\n",
      "Cell \u001b[0;32mIn[7], line 27\u001b[0m, in \u001b[0;36mItem_Data.update_me\u001b[0;34m(self, name, id)\u001b[0m\n\u001b[1;32m     26\u001b[0m \u001b[39mdef\u001b[39;00m \u001b[39mupdate_me\u001b[39m(\u001b[39mself\u001b[39m,name,\u001b[39mid\u001b[39m):\n\u001b[0;32m---> 27\u001b[0m     \u001b[39mself\u001b[39;49m\u001b[39m.\u001b[39;49mc\u001b[39m.\u001b[39;49mexecute(\u001b[39mf\u001b[39;49m\u001b[39m\"\"\"\u001b[39;49m\n\u001b[1;32m     28\u001b[0m \u001b[39m    UPDATE item_list SET \u001b[39;49m\u001b[39m\"\u001b[39;49m\u001b[39mitem_name\u001b[39;49m\u001b[39m\"\u001b[39;49m\u001b[39m=\u001b[39;49m\u001b[39m{\u001b[39;49;00mname\u001b[39m}\u001b[39;49;00m\n\u001b[1;32m     29\u001b[0m \u001b[39m    where id = \u001b[39;49m\u001b[39m{\u001b[39;49;00m\u001b[39mid\u001b[39;49m\u001b[39m}\u001b[39;49;00m\u001b[39m ;\u001b[39;49m\n\u001b[1;32m     30\u001b[0m \u001b[39m    \u001b[39;49m\u001b[39m\"\"\"\u001b[39;49m)\n",
      "\u001b[0;31mOperationalError\u001b[0m: no such column: man"
     ]
    }
   ],
   "source": [
    "obj.update_me(4,\"man\")"
   ]
  },
  {
   "cell_type": "code",
   "execution_count": 9,
   "metadata": {},
   "outputs": [],
   "source": [
    "obj.delete_me(2)"
   ]
  },
  {
   "cell_type": "code",
   "execution_count": 10,
   "metadata": {},
   "outputs": [
    {
     "data": {
      "text/plain": [
       "[(1, 'mouse', 1000), (3, 'earbuds', 3000), (4, 'mac mini', 80000)]"
      ]
     },
     "execution_count": 10,
     "metadata": {},
     "output_type": "execute_result"
    }
   ],
   "source": [
    "obj.get_line()"
   ]
  },
  {
   "cell_type": "code",
   "execution_count": 78,
   "metadata": {},
   "outputs": [],
   "source": [
    "def insert_me(id, name, price):\n",
    "    try:\n",
    "        con = sqlite3.connect(\"/workspaces/streamlit_exp/items.db\")\n",
    "        c = con.cursor()\n",
    "        sql = f\"\"\"\n",
    "        INSERT INTO item_list (id, item_name, price) VALUES({id}, '{name}', {price});\n",
    "        \"\"\"\n",
    "        print(sql)\n",
    "        c.execute(sql)\n",
    "    except Exception as ex:\n",
    "\n",
    "        print(ex)\n",
    "    # return (c.fetchall())\n",
    "    "
   ]
  },
  {
   "cell_type": "code",
   "execution_count": 79,
   "metadata": {},
   "outputs": [
    {
     "name": "stdout",
     "output_type": "stream",
     "text": [
      "\n",
      "        INSERT INTO item_list (id, item_name, price) VALUES(7, 'item-2', 1200);\n",
      "        \n"
     ]
    }
   ],
   "source": [
    "insert_me(7,\"item-2\",1200)"
   ]
  },
  {
   "cell_type": "code",
   "execution_count": 80,
   "metadata": {},
   "outputs": [
    {
     "data": {
      "text/plain": [
       "[(1, 'mouse', 1000),\n",
       " (2, 'keyborad', 1500),\n",
       " (3, 'earbuds', 3000),\n",
       " (4, 'mac mini', 80000)]"
      ]
     },
     "execution_count": 80,
     "metadata": {},
     "output_type": "execute_result"
    }
   ],
   "source": [
    "import sqlite3\n",
    "sqlite3.connect(\"/workspaces/streamlit_exp/items.db\").cursor().execute('select * from item_list').fetchall()"
   ]
  },
  {
   "cell_type": "code",
   "execution_count": null,
   "metadata": {},
   "outputs": [],
   "source": []
  },
  {
   "cell_type": "code",
   "execution_count": null,
   "metadata": {},
   "outputs": [],
   "source": []
  },
  {
   "cell_type": "code",
   "execution_count": null,
   "metadata": {},
   "outputs": [],
   "source": []
  },
  {
   "cell_type": "code",
   "execution_count": null,
   "metadata": {},
   "outputs": [],
   "source": []
  },
  {
   "cell_type": "code",
   "execution_count": null,
   "metadata": {},
   "outputs": [],
   "source": []
  },
  {
   "cell_type": "code",
   "execution_count": null,
   "metadata": {},
   "outputs": [],
   "source": []
  },
  {
   "cell_type": "code",
   "execution_count": null,
   "metadata": {},
   "outputs": [],
   "source": []
  },
  {
   "cell_type": "code",
   "execution_count": null,
   "metadata": {},
   "outputs": [],
   "source": []
  },
  {
   "cell_type": "code",
   "execution_count": null,
   "metadata": {},
   "outputs": [],
   "source": []
  }
 ],
 "metadata": {
  "kernelspec": {
   "display_name": "Python 3",
   "language": "python",
   "name": "python3"
  },
  "language_info": {
   "codemirror_mode": {
    "name": "ipython",
    "version": 3
   },
   "file_extension": ".py",
   "mimetype": "text/x-python",
   "name": "python",
   "nbconvert_exporter": "python",
   "pygments_lexer": "ipython3",
   "version": "3.10.8"
  },
  "orig_nbformat": 4
 },
 "nbformat": 4,
 "nbformat_minor": 2
}
