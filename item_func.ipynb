{
 "cells": [
  {
   "cell_type": "code",
   "execution_count": 5,
   "metadata": {},
   "outputs": [],
   "source": [
    "import sqlite3\n",
    "\n",
    "class Item_Data:\n",
    "    def __init__(self):    \n",
    "        con = sqlite3.connect(\"/workspaces/streamlit_exp/items.db\")\n",
    "        self.c = con.cursor()\n",
    "        self.c.execute(\"select * from student_list\")\n",
    "        self.data = (self.c.fetchall())\n",
    "        self.c.execute(\"select COUNT(*) from student_list\")\n",
    "        self.total_count = (self.c.fetchone())\n",
    "        con.commit()\n",
    "        # con.close()\n",
    "    def delete_me(self,id):\n",
    "        self.c.execute(f\"DELETE from student_list where id = {id}\")\n",
    "        \n",
    "        self.data = (self.c.fetchall())\n",
    "\n",
    "    def get_line(self):\n",
    "        self.c.execute(\"select * from student_list\")\n",
    "        self.data = (self.c.fetchall())\n",
    "\n",
    "    def update_me(self,name,id):\n",
    "        self.c.execute(f\"\"\"\n",
    "        UPDATE student_list SET \"item_name\"={name}\n",
    "        where id = {id} ;\n",
    "        \"\"\")\n",
    "        self.data = (self.c.fetchall())\n",
    "\n",
    "    def delete_me(self,id):\n",
    "        self.c.execute(f\"\"\"\n",
    "        DELETE where id={id}\n",
    "        \"\"\")\n",
    "        self.data = (self.c.fetchall())\n",
    "\n",
    "    def insert_me(self,name,id,price):\n",
    "        self.c.execute(f\"\"\"\n",
    "        INSERT INTO student_list (\"item_name \", id, price) VALUES('{name}', {id}, {price});\n",
    "        \"\"\")\n",
    "        \n",
    "        self.data = (self.c.fetchall())\n",
    "\n",
    "    def show_data(self):\n",
    "        self.c.execute(\"select * from student_list\")\n",
    "        for i in self.data():\n",
    "            print(i[1])\n",
    "\n",
    "obj = Item_Data()\n",
    "\n"
   ]
  },
  {
   "cell_type": "code",
   "execution_count": 63,
   "metadata": {},
   "outputs": [],
   "source": [
    "import sqlite3\n",
    "\n",
    "class Item_Data():\n",
    "    def __init__(self):\n",
    "        con = sqlite3.connect(\"/workspaces/streamlit_exp/items.db\")\n",
    "        self.c = con.cursor()\n",
    "\n",
    "\n",
    "    def get_line(self):\n",
    "        self.c.execute(\"select * from item_list\")\n",
    "        return (self.c.fetchall())\n",
    "\n",
    "    def insert_me(self, id, name, price):\n",
    "        try:\n",
    "            self.con = sqlite3.connect(\"/workspaces/streamlit_exp/items.db\")\n",
    "            self.c = con.cursor()\n",
    "            sql = f\"\"\"\n",
    "            INSERT INTO item_list (id, item_name, price) VALUES({id}, '{name}', {price});\n",
    "            \"\"\"\n",
    "            print(sql)\n",
    "            self.c.execute(sql)\n",
    "        except Exception as ex:\n",
    "\n",
    "            print(ex)\n",
    "\n",
    "    def update_me(self,name,id):\n",
    "        self.c.execute(f\"\"\"\n",
    "        UPDATE item_list SET \"item_name\"={name}\n",
    "        where id = {id} ;\n",
    "        \"\"\")\n",
    "        \n",
    "    def delete_me(self,id):\n",
    "        self.c.execute(f\"\"\"\n",
    "        DELETE where id={id}\n",
    "        \"\"\")\n",
    "        self.data = (self.c.fetchall())\n",
    "\n",
    "obj = Item_Data()"
   ]
  },
  {
   "cell_type": "code",
   "execution_count": 72,
   "metadata": {},
   "outputs": [
    {
     "data": {
      "text/plain": [
       "[(1, 'mouse', 1000),\n",
       " (2, 'keyborad', 1500),\n",
       " (3, 'earbuds', 3000),\n",
       " (4, 'mac mini', 80000)]"
      ]
     },
     "execution_count": 72,
     "metadata": {},
     "output_type": "execute_result"
    }
   ],
   "source": [
    "obj.get_line()"
   ]
  },
  {
   "cell_type": "code",
   "execution_count": 78,
   "metadata": {},
   "outputs": [],
   "source": [
    "def insert_me(id, name, price):\n",
    "    try:\n",
    "        con = sqlite3.connect(\"/workspaces/streamlit_exp/items.db\")\n",
    "        c = con.cursor()\n",
    "        sql = f\"\"\"\n",
    "        INSERT INTO item_list (id, item_name, price) VALUES({id}, '{name}', {price});\n",
    "        \"\"\"\n",
    "        print(sql)\n",
    "        c.execute(sql)\n",
    "    except Exception as ex:\n",
    "\n",
    "        print(ex)\n",
    "    # return (c.fetchall())\n",
    "    "
   ]
  },
  {
   "cell_type": "code",
   "execution_count": 79,
   "metadata": {},
   "outputs": [
    {
     "name": "stdout",
     "output_type": "stream",
     "text": [
      "\n",
      "        INSERT INTO item_list (id, item_name, price) VALUES(7, 'item-2', 1200);\n",
      "        \n"
     ]
    }
   ],
   "source": [
    "insert_me(7,\"item-2\",1200)"
   ]
  },
  {
   "cell_type": "code",
   "execution_count": 80,
   "metadata": {},
   "outputs": [
    {
     "data": {
      "text/plain": [
       "[(1, 'mouse', 1000),\n",
       " (2, 'keyborad', 1500),\n",
       " (3, 'earbuds', 3000),\n",
       " (4, 'mac mini', 80000)]"
      ]
     },
     "execution_count": 80,
     "metadata": {},
     "output_type": "execute_result"
    }
   ],
   "source": [
    "import sqlite3\n",
    "sqlite3.connect(\"/workspaces/streamlit_exp/items.db\").cursor().execute('select * from item_list').fetchall()"
   ]
  },
  {
   "cell_type": "code",
   "execution_count": null,
   "metadata": {},
   "outputs": [],
   "source": []
  },
  {
   "cell_type": "code",
   "execution_count": null,
   "metadata": {},
   "outputs": [],
   "source": []
  },
  {
   "cell_type": "code",
   "execution_count": null,
   "metadata": {},
   "outputs": [],
   "source": []
  },
  {
   "cell_type": "code",
   "execution_count": null,
   "metadata": {},
   "outputs": [],
   "source": []
  },
  {
   "cell_type": "code",
   "execution_count": null,
   "metadata": {},
   "outputs": [],
   "source": []
  },
  {
   "cell_type": "code",
   "execution_count": null,
   "metadata": {},
   "outputs": [],
   "source": []
  },
  {
   "cell_type": "code",
   "execution_count": null,
   "metadata": {},
   "outputs": [],
   "source": []
  },
  {
   "cell_type": "code",
   "execution_count": null,
   "metadata": {},
   "outputs": [],
   "source": []
  },
  {
   "cell_type": "code",
   "execution_count": null,
   "metadata": {},
   "outputs": [],
   "source": []
  }
 ],
 "metadata": {
  "kernelspec": {
   "display_name": "Python 3",
   "language": "python",
   "name": "python3"
  },
  "language_info": {
   "codemirror_mode": {
    "name": "ipython",
    "version": 3
   },
   "file_extension": ".py",
   "mimetype": "text/x-python",
   "name": "python",
   "nbconvert_exporter": "python",
   "pygments_lexer": "ipython3",
   "version": "3.10.4"
  },
  "orig_nbformat": 4
 },
 "nbformat": 4,
 "nbformat_minor": 2
}
