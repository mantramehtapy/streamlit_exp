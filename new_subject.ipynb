{
 "cells": [
  {
   "cell_type": "code",
   "execution_count": null,
   "metadata": {},
   "outputs": [],
   "source": [
    "import sqlite3\n",
    "\n",
    "class Students_Data:\n",
    "    def __init__(self):    \n",
    "        con = sqlite3.connect(\"/workspaces/streamlit_exp/subject_list.sqlite\")\n",
    "        self.c = con.cursor()\n",
    "        self.c.execute(\"select * from student_list\")\n",
    "        self.data = (self.c.fetchall())\n",
    "        self.c.execute(\"select COUNT(*) from student_list\")\n",
    "        self.total_count = (self.c.fetchone())\n",
    "        con.commit()\n",
    "        # con.close()\n",
    "    def delete_me(self,id):\n",
    "        self.c.execute(f\"DELETE from student_list where id = {id}\")\n",
    "        self.data = (self.c.fetchall())\n",
    "\n",
    "    def get_line(self):\n",
    "        self.c.execute(\"select * from student_list\")\n",
    "        self.data = (self.c.fetchall())\n",
    "\n",
    "    def update_me(self,name,id):\n",
    "        self.c.execute(f\"\"\"\n",
    "        UPDATE student_list SET \"name\"={name}\n",
    "        where id = {id} ;\n",
    "        \"\"\")\n",
    "        self.data = (self.c.fetchall())\n",
    "\n",
    "    def delete_me(self,id):\n",
    "        self.c.execute(f\"\"\"\n",
    "        DELETE where id={id}\n",
    "        \"\"\")\n",
    "        self.data = (self.c.fetchall())\n",
    "\n",
    "    def insert_me(self,name,id,age):\n",
    "        self.c.execute(f\"\"\"\n",
    "        INSERT INTO student_list (\"name \", id, age) VALUES('{name}', {id}, {age});\n",
    "        \"\"\")\n",
    "        \n",
    "        self.data = (self.c.fetchall())\n",
    "\n",
    "    def show_data(self):\n",
    "        self.c.execute(\"select * from student_list\")\n",
    "        for i in self.data():\n",
    "            print(i[1])\n",
    "\n",
    "obj = Students_Data()"
   ]
  }
 ],
 "metadata": {
  "kernelspec": {
   "display_name": "Python 3",
   "language": "python",
   "name": "python3"
  },
  "language_info": {
   "name": "python",
   "version": "3.10.4"
  },
  "orig_nbformat": 4
 },
 "nbformat": 4,
 "nbformat_minor": 2
}
