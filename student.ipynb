{
  "cells": [
    {
      "cell_type": "code",
      "execution_count": null,
      "metadata": {
        "id": "DP-W3ZJg7sU7"
      },
      "outputs": [],
      "source": [
        "import pandas as pd\n",
        "\n",
        "df = pd.read_csv('pokemon_data.csv')\n",
        "\n",
        "df_xlsx = pd.read_excel('/content/pokemon_data.xlsx')\n",
        "\n",
        "print(df_xlsx.head(3))\n",
        "\n",
        "# print(df.head(3))\n",
        "# print(df.tail(3))"
      ]
    },
    {
      "cell_type": "code",
      "execution_count": null,
      "metadata": {
        "id": "6mdpVKC9yP5s"
      },
      "outputs": [],
      "source": []
    },
    {
      "cell_type": "code",
      "execution_count": null,
      "metadata": {
        "id": "i3AxD-TvyQFj"
      },
      "outputs": [],
      "source": []
    },
    {
      "cell_type": "code",
      "execution_count": null,
      "metadata": {
        "id": "Sa0QbMvVyQIg"
      },
      "outputs": [],
      "source": []
    },
    {
      "cell_type": "code",
      "execution_count": null,
      "metadata": {
        "id": "J61NO_AP7v35"
      },
      "outputs": [],
      "source": [
        "df.columns\n",
        "# print(df['Name'])\n",
        "# print(df['Name'][0:5])\n",
        "print(df.Name)"
      ]
    },
    {
      "cell_type": "code",
      "execution_count": null,
      "metadata": {
        "id": "U-uVqb2_7v6t"
      },
      "outputs": [],
      "source": [
        "df.loc[df['Type 1'] == \"Grass\"]"
      ]
    },
    {
      "cell_type": "code",
      "execution_count": null,
      "metadata": {
        "id": "tBSoX8pC7v8-"
      },
      "outputs": [],
      "source": [
        "df.describe()\n",
        "# df.sort_values('name')"
      ]
    },
    {
      "cell_type": "code",
      "execution_count": null,
      "metadata": {
        "id": "rDipl_be7v_d"
      },
      "outputs": [],
      "source": [
        "df.head(5)"
      ]
    },
    {
      "cell_type": "code",
      "execution_count": null,
      "metadata": {
        "id": "ozrwL5C07wCJ"
      },
      "outputs": [],
      "source": [
        "#df['Total'] = df['HP'] + df['Attack'] + df['Defense'] + df['Sp. Atk'] + df['Sp. Def'] + df['Speed']\n",
        "\n",
        "# df = df.drop(columns=['Total'])\n",
        "\n",
        "df['Total'] = df.iloc[:, 4:10].sum(axis=1)\n",
        "\n",
        "cols = list(df.columns)\n",
        "df = df[cols[0:4] + [cols[-1]]+cols[4:12]]\n",
        "\n",
        "df.head(5)"
      ]
    },
    {
      "cell_type": "code",
      "execution_count": null,
      "metadata": {
        "id": "Daj5bubo7wEp"
      },
      "outputs": [],
      "source": [
        "# df.to_csv('modified.csv', index=False)\n",
        "\n",
        "#df.to_excel('modified.xlsx', index=False)\n",
        "\n",
        "df.to_csv('modified.txt', index=False, sep='\\t')"
      ]
    },
    {
      "cell_type": "code",
      "execution_count": null,
      "metadata": {
        "id": "6gYBb9SR7wLb"
      },
      "outputs": [],
      "source": [
        "new_df = df.loc[(df['Type 1'] == 'Grass') & (df['Type 2'] == 'Poison') & (df['HP'] > 70)]\n",
        "\n",
        "new_df.reset_index(drop=True, inplace=True)\n",
        "\n",
        "new_df\n",
        "\n",
        "new_df.to_csv('filtered.csv')\n"
      ]
    },
    {
      "cell_type": "code",
      "execution_count": null,
      "metadata": {
        "id": "rNP6lVBd7wM6"
      },
      "outputs": [],
      "source": [
        "# df.to_csv('modified.csv', index=False)\n",
        "\n",
        "#df.to_excel('modified.xlsx', index=False)\n",
        "\n",
        "df.to_csv('modified.txt', index=False, sep='\\t')"
      ]
    },
    {
      "cell_type": "code",
      "execution_count": null,
      "metadata": {
        "id": "5AENfviZ7wO4"
      },
      "outputs": [],
      "source": [
        "new_df = df.loc[(df['Type 1'] == 'Grass') & (df['Type 2'] == 'Poison') & (df['HP'] > 70)]\n",
        "\n",
        "new_df.reset_index(drop=True, inplace=True)\n",
        "\n",
        "new_df\n",
        "\n",
        "new_df.to_csv('filtered.csv')"
      ]
    },
    {
      "cell_type": "code",
      "execution_count": null,
      "metadata": {
        "id": "29iZ58RL7wPw"
      },
      "outputs": [],
      "source": [
        "# df.loc[df['Total'] > 500, ['Generation','Legendary']] = ['Test 1', 'Test 2']\n",
        "\n",
        "# df\n",
        "\n",
        "df = pd.read_csv('modified.csv')\n",
        "\n",
        "df"
      ]
    },
    {
      "cell_type": "code",
      "execution_count": 1,
      "metadata": {
        "id": "Fs6MBGW37wSm"
      },
      "outputs": [
        {
          "name": "stdout",
          "output_type": "stream",
          "text": [
            "Requirement already satisfied: gradio in /usr/local/python/3.10.4/lib/python3.10/site-packages (3.28.1)\n",
            "Requirement already satisfied: aiofiles in /home/codespace/.local/lib/python3.10/site-packages (from gradio) (22.1.0)\n",
            "Requirement already satisfied: aiohttp in /usr/local/python/3.10.4/lib/python3.10/site-packages (from gradio) (3.8.4)\n",
            "Requirement already satisfied: altair>=4.2.0 in /usr/local/python/3.10.4/lib/python3.10/site-packages (from gradio) (4.2.2)\n",
            "Requirement already satisfied: fastapi in /usr/local/python/3.10.4/lib/python3.10/site-packages (from gradio) (0.95.1)\n",
            "Requirement already satisfied: ffmpy in /usr/local/python/3.10.4/lib/python3.10/site-packages (from gradio) (0.3.0)\n",
            "Requirement already satisfied: gradio-client>=0.1.3 in /usr/local/python/3.10.4/lib/python3.10/site-packages (from gradio) (0.1.4)\n",
            "Requirement already satisfied: httpx in /usr/local/python/3.10.4/lib/python3.10/site-packages (from gradio) (0.24.0)\n",
            "Requirement already satisfied: huggingface-hub>=0.13.0 in /usr/local/python/3.10.4/lib/python3.10/site-packages (from gradio) (0.14.1)\n",
            "Requirement already satisfied: jinja2 in /home/codespace/.local/lib/python3.10/site-packages (from gradio) (3.1.2)\n",
            "Requirement already satisfied: markdown-it-py[linkify]>=2.0.0 in /usr/local/python/3.10.4/lib/python3.10/site-packages (from gradio) (2.2.0)\n",
            "Requirement already satisfied: markupsafe in /home/codespace/.local/lib/python3.10/site-packages (from gradio) (2.1.2)\n",
            "Requirement already satisfied: matplotlib in /home/codespace/.local/lib/python3.10/site-packages (from gradio) (3.7.1)\n",
            "Requirement already satisfied: mdit-py-plugins<=0.3.3 in /usr/local/python/3.10.4/lib/python3.10/site-packages (from gradio) (0.3.3)\n",
            "Requirement already satisfied: numpy in /home/codespace/.local/lib/python3.10/site-packages (from gradio) (1.24.3)\n",
            "Requirement already satisfied: orjson in /usr/local/python/3.10.4/lib/python3.10/site-packages (from gradio) (3.8.11)\n",
            "Requirement already satisfied: pandas in /home/codespace/.local/lib/python3.10/site-packages (from gradio) (2.0.1)\n",
            "Requirement already satisfied: pillow in /home/codespace/.local/lib/python3.10/site-packages (from gradio) (9.5.0)\n",
            "Requirement already satisfied: pydantic in /usr/local/python/3.10.4/lib/python3.10/site-packages (from gradio) (1.10.7)\n",
            "Requirement already satisfied: pydub in /usr/local/python/3.10.4/lib/python3.10/site-packages (from gradio) (0.25.1)\n",
            "Requirement already satisfied: python-multipart in /usr/local/python/3.10.4/lib/python3.10/site-packages (from gradio) (0.0.6)\n",
            "Requirement already satisfied: pyyaml in /home/codespace/.local/lib/python3.10/site-packages (from gradio) (6.0)\n",
            "Requirement already satisfied: requests in /home/codespace/.local/lib/python3.10/site-packages (from gradio) (2.28.2)\n",
            "Requirement already satisfied: semantic-version in /usr/local/python/3.10.4/lib/python3.10/site-packages (from gradio) (2.10.0)\n",
            "Requirement already satisfied: typing-extensions in /home/codespace/.local/lib/python3.10/site-packages (from gradio) (4.5.0)\n",
            "Requirement already satisfied: uvicorn in /usr/local/python/3.10.4/lib/python3.10/site-packages (from gradio) (0.22.0)\n",
            "Requirement already satisfied: websockets>=10.0 in /usr/local/python/3.10.4/lib/python3.10/site-packages (from gradio) (11.0.2)\n",
            "Requirement already satisfied: entrypoints in /usr/local/python/3.10.4/lib/python3.10/site-packages (from altair>=4.2.0->gradio) (0.4)\n",
            "Requirement already satisfied: jsonschema>=3.0 in /home/codespace/.local/lib/python3.10/site-packages (from altair>=4.2.0->gradio) (4.17.3)\n",
            "Requirement already satisfied: toolz in /usr/local/python/3.10.4/lib/python3.10/site-packages (from altair>=4.2.0->gradio) (0.12.0)\n",
            "Requirement already satisfied: fsspec in /usr/local/python/3.10.4/lib/python3.10/site-packages (from gradio-client>=0.1.3->gradio) (2023.4.0)\n",
            "Requirement already satisfied: packaging in /home/codespace/.local/lib/python3.10/site-packages (from gradio-client>=0.1.3->gradio) (23.1)\n",
            "Requirement already satisfied: filelock in /home/codespace/.local/lib/python3.10/site-packages (from huggingface-hub>=0.13.0->gradio) (3.12.0)\n",
            "Requirement already satisfied: tqdm>=4.42.1 in /usr/local/python/3.10.4/lib/python3.10/site-packages (from huggingface-hub>=0.13.0->gradio) (4.65.0)\n",
            "Requirement already satisfied: mdurl~=0.1 in /usr/local/python/3.10.4/lib/python3.10/site-packages (from markdown-it-py[linkify]>=2.0.0->gradio) (0.1.2)\n",
            "Requirement already satisfied: linkify-it-py<3,>=1 in /usr/local/python/3.10.4/lib/python3.10/site-packages (from markdown-it-py[linkify]>=2.0.0->gradio) (2.0.2)\n",
            "Requirement already satisfied: python-dateutil>=2.8.2 in /home/codespace/.local/lib/python3.10/site-packages (from pandas->gradio) (2.8.2)\n",
            "Requirement already satisfied: pytz>=2020.1 in /home/codespace/.local/lib/python3.10/site-packages (from pandas->gradio) (2023.3)\n",
            "Requirement already satisfied: tzdata>=2022.1 in /home/codespace/.local/lib/python3.10/site-packages (from pandas->gradio) (2023.3)\n",
            "Requirement already satisfied: attrs>=17.3.0 in /home/codespace/.local/lib/python3.10/site-packages (from aiohttp->gradio) (23.1.0)\n",
            "Requirement already satisfied: charset-normalizer<4.0,>=2.0 in /home/codespace/.local/lib/python3.10/site-packages (from aiohttp->gradio) (3.1.0)\n",
            "Requirement already satisfied: multidict<7.0,>=4.5 in /usr/local/python/3.10.4/lib/python3.10/site-packages (from aiohttp->gradio) (6.0.4)\n",
            "Requirement already satisfied: async-timeout<5.0,>=4.0.0a3 in /usr/local/python/3.10.4/lib/python3.10/site-packages (from aiohttp->gradio) (4.0.2)\n",
            "Requirement already satisfied: yarl<2.0,>=1.0 in /usr/local/python/3.10.4/lib/python3.10/site-packages (from aiohttp->gradio) (1.9.2)\n",
            "Requirement already satisfied: frozenlist>=1.1.1 in /usr/local/python/3.10.4/lib/python3.10/site-packages (from aiohttp->gradio) (1.3.3)\n",
            "Requirement already satisfied: aiosignal>=1.1.2 in /usr/local/python/3.10.4/lib/python3.10/site-packages (from aiohttp->gradio) (1.3.1)\n",
            "Requirement already satisfied: starlette<0.27.0,>=0.26.1 in /usr/local/python/3.10.4/lib/python3.10/site-packages (from fastapi->gradio) (0.26.1)\n",
            "Requirement already satisfied: certifi in /home/codespace/.local/lib/python3.10/site-packages (from httpx->gradio) (2022.12.7)\n",
            "Requirement already satisfied: httpcore<0.18.0,>=0.15.0 in /usr/local/python/3.10.4/lib/python3.10/site-packages (from httpx->gradio) (0.17.0)\n",
            "Requirement already satisfied: idna in /home/codespace/.local/lib/python3.10/site-packages (from httpx->gradio) (3.4)\n",
            "Requirement already satisfied: sniffio in /home/codespace/.local/lib/python3.10/site-packages (from httpx->gradio) (1.3.0)\n",
            "Requirement already satisfied: contourpy>=1.0.1 in /home/codespace/.local/lib/python3.10/site-packages (from matplotlib->gradio) (1.0.7)\n",
            "Requirement already satisfied: cycler>=0.10 in /home/codespace/.local/lib/python3.10/site-packages (from matplotlib->gradio) (0.11.0)\n",
            "Requirement already satisfied: fonttools>=4.22.0 in /home/codespace/.local/lib/python3.10/site-packages (from matplotlib->gradio) (4.39.3)\n",
            "Requirement already satisfied: kiwisolver>=1.0.1 in /home/codespace/.local/lib/python3.10/site-packages (from matplotlib->gradio) (1.4.4)\n",
            "Requirement already satisfied: pyparsing>=2.3.1 in /home/codespace/.local/lib/python3.10/site-packages (from matplotlib->gradio) (3.0.9)\n",
            "Requirement already satisfied: urllib3<1.27,>=1.21.1 in /home/codespace/.local/lib/python3.10/site-packages (from requests->gradio) (1.26.15)\n",
            "Requirement already satisfied: click>=7.0 in /usr/local/python/3.10.4/lib/python3.10/site-packages (from uvicorn->gradio) (8.1.3)\n",
            "Requirement already satisfied: h11>=0.8 in /usr/local/python/3.10.4/lib/python3.10/site-packages (from uvicorn->gradio) (0.14.0)\n",
            "Requirement already satisfied: anyio<5.0,>=3.0 in /home/codespace/.local/lib/python3.10/site-packages (from httpcore<0.18.0,>=0.15.0->httpx->gradio) (3.6.2)\n",
            "Requirement already satisfied: pyrsistent!=0.17.0,!=0.17.1,!=0.17.2,>=0.14.0 in /home/codespace/.local/lib/python3.10/site-packages (from jsonschema>=3.0->altair>=4.2.0->gradio) (0.19.3)\n",
            "Requirement already satisfied: uc-micro-py in /usr/local/python/3.10.4/lib/python3.10/site-packages (from linkify-it-py<3,>=1->markdown-it-py[linkify]>=2.0.0->gradio) (1.0.2)\n",
            "Requirement already satisfied: six>=1.5 in /home/codespace/.local/lib/python3.10/site-packages (from python-dateutil>=2.8.2->pandas->gradio) (1.16.0)\n",
            "Requirement already satisfied: pandas in /home/codespace/.local/lib/python3.10/site-packages (2.0.1)\n",
            "Requirement already satisfied: python-dateutil>=2.8.2 in /home/codespace/.local/lib/python3.10/site-packages (from pandas) (2.8.2)\n",
            "Requirement already satisfied: pytz>=2020.1 in /home/codespace/.local/lib/python3.10/site-packages (from pandas) (2023.3)\n",
            "Requirement already satisfied: tzdata>=2022.1 in /home/codespace/.local/lib/python3.10/site-packages (from pandas) (2023.3)\n",
            "Requirement already satisfied: numpy>=1.21.0 in /home/codespace/.local/lib/python3.10/site-packages (from pandas) (1.24.3)\n",
            "Requirement already satisfied: six>=1.5 in /home/codespace/.local/lib/python3.10/site-packages (from python-dateutil>=2.8.2->pandas) (1.16.0)\n",
            "Requirement already satisfied: db-sqlite3 in /usr/local/python/3.10.4/lib/python3.10/site-packages (0.0.1)\n",
            "Requirement already satisfied: db in /usr/local/python/3.10.4/lib/python3.10/site-packages (from db-sqlite3) (0.1.1)\n",
            "Requirement already satisfied: antiorm in /usr/local/python/3.10.4/lib/python3.10/site-packages (from db->db-sqlite3) (1.2.1)\n"
          ]
        }
      ],
      "source": [
        "!pip install gradio \n",
        "!pip install pandas\n",
        "\n",
        "!pip install db-sqlite3\n"
      ]
    },
    {
      "cell_type": "markdown",
      "metadata": {},
      "source": []
    },
    {
      "cell_type": "code",
      "execution_count": null,
      "metadata": {
        "id": "haqAeqLi7wUG"
      },
      "outputs": [],
      "source": [
        "import sqlite3\n",
        "\n",
        "class Students_Data:\n",
        "    def __init__(self):    \n",
        "        con = sqlite3.connect(\"/workspaces/streamlit_exp/subject_list.sqlite\")\n",
        "        self.c = con.cursor()\n",
        "        self.c.execute(\"select * from student_list\")\n",
        "        self.data = (self.c.fetchall())\n",
        "        self.c.execute(\"select COUNT(*) from student_list\")\n",
        "        self.total_count = (self.c.fetchone())\n",
        "        con.commit()\n",
        "        # con.close()\n",
        "    def delete_me(self,id):\n",
        "        self.c.execute(f\"DELETE from student_list where id = {id}\")\n",
        "        self.data = (self.c.fetchall())\n",
        "\n",
        "    def get_line(self):\n",
        "        self.c.execute(\"select * from student_list\")\n",
        "        self.data = (self.c.fetchall())\n",
        "\n",
        "    def update_me(self,name,id):\n",
        "        self.c.execute(f\"\"\"\n",
        "        UPDATE student_list SET \"name\"={name}\n",
        "        where id = {id} ;\n",
        "        \"\"\")\n",
        "        self.data = (self.c.fetchall())\n",
        "\n",
        "    def delete_me(self,id):\n",
        "        self.c.execute(f\"\"\"\n",
        "        DELETE where id={id}\n",
        "        \"\"\")\n",
        "        self.data = (self.c.fetchall())\n",
        "\n",
        "    def insert_me(self,name,id,age):\n",
        "        self.c.execute(f\"\"\"\n",
        "        INSERT INTO student_list (\"name \", id, age) VALUES('{name}', {id}, {age});\n",
        "        \"\"\")\n",
        "        \n",
        "        self.data = (self.c.fetchall())\n",
        "\n",
        "    def show_data(self):\n",
        "        self.c.execute(\"select * from student_list\")\n",
        "        for i in self.data():\n",
        "            print(i[1])\n",
        "\n",
        "obj = Students_Data()"
      ]
    },
    {
      "cell_type": "code",
      "execution_count": null,
      "metadata": {
        "id": "4UBbpXGs7wVX"
      },
      "outputs": [],
      "source": [
        "obj.delete_me(2001142)"
      ]
    },
    {
      "cell_type": "code",
      "execution_count": null,
      "metadata": {
        "id": "i9lzLG7o7wW1"
      },
      "outputs": [],
      "source": [
        "obj.get_line()"
      ]
    },
    {
      "cell_type": "code",
      "execution_count": null,
      "metadata": {
        "id": "KZdMSGTQ7wYE"
      },
      "outputs": [],
      "source": [
        "obj.data"
      ]
    },
    {
      "cell_type": "code",
      "execution_count": null,
      "metadata": {
        "id": "l-8n-qQ4k-OB"
      },
      "outputs": [],
      "source": [
        "obj.insert_me(\"parva\",1234,10)"
      ]
    },
    {
      "cell_type": "code",
      "execution_count": null,
      "metadata": {
        "id": "JZF17YZQnGdE"
      },
      "outputs": [],
      "source": [
        "obj.get_line()\n",
        "obj.data"
      ]
    },
    {
      "cell_type": "code",
      "execution_count": null,
      "metadata": {
        "id": "ZMy8fNdDk-X5"
      },
      "outputs": [],
      "source": [
        "obj.update_me(\"prakash\",1234)"
      ]
    },
    {
      "cell_type": "code",
      "execution_count": null,
      "metadata": {
        "id": "tLQjwTh17wZl"
      },
      "outputs": [],
      "source": [
        "obj.get_line()\n",
        "obj.data"
      ]
    },
    {
      "cell_type": "code",
      "execution_count": null,
      "metadata": {
        "id": "WRE4waNW7wa6"
      },
      "outputs": [],
      "source": [
        "obj.delete_me(1234)"
      ]
    },
    {
      "cell_type": "code",
      "execution_count": null,
      "metadata": {
        "id": "CEvZ5Me77wct"
      },
      "outputs": [],
      "source": [
        "obj.get_line()\n",
        "obj.data"
      ]
    },
    {
      "cell_type": "code",
      "execution_count": null,
      "metadata": {
        "id": "oyqaqSBK7weD"
      },
      "outputs": [],
      "source": [
        "import pandas as pd\n",
        "\n",
        "engine = create_engine(\"/content/subject_list.sqlite\")\n",
        "\n",
        "data = pd.read_sql(\"id\", engine)\n",
        "\n",
        "data.head()\n"
      ]
    },
    {
      "cell_type": "code",
      "execution_count": null,
      "metadata": {
        "id": "Eo8Sqfed7wfr"
      },
      "outputs": [],
      "source": [
        "!pip install -U pandasql"
      ]
    },
    {
      "cell_type": "code",
      "execution_count": null,
      "metadata": {
        "id": "2XHukhdT7whR"
      },
      "outputs": [],
      "source": [
        "from pandasql import sqldf, load_meat, load_births"
      ]
    },
    {
      "cell_type": "code",
      "execution_count": null,
      "metadata": {
        "id": "aHzTkLeg7wiv"
      },
      "outputs": [],
      "source": [
        "pysqldf = lambda q: sqldf(q, globals())"
      ]
    },
    {
      "cell_type": "code",
      "execution_count": null,
      "metadata": {
        "id": "OLxYkQrZ7wll"
      },
      "outputs": [],
      "source": [
        "meat = load_meat()"
      ]
    },
    {
      "cell_type": "code",
      "execution_count": null,
      "metadata": {
        "id": "C1b_ZTXo7wmq"
      },
      "outputs": [],
      "source": [
        "births = load_births()"
      ]
    },
    {
      "cell_type": "code",
      "execution_count": null,
      "metadata": {
        "id": "sqmFtdQd7wpz"
      },
      "outputs": [],
      "source": [
        "print (pysqldf(\"SELECT * FROM meat LIMIT 10;\").head())"
      ]
    },
    {
      "cell_type": "code",
      "execution_count": null,
      "metadata": {
        "id": "9AQE0nuV7wrq"
      },
      "outputs": [],
      "source": [
        "import sqlite3\n",
        "import pandas as pd\n",
        "\n",
        "conn = sqlite3.connect('work.sqlite')\n",
        "cur = conn.cursor()\n",
        "conn.commit()"
      ]
    },
    {
      "cell_type": "code",
      "execution_count": null,
      "metadata": {
        "id": "NxBWMdur7wuv"
      },
      "outputs": [],
      "source": [
        "df = pd.read_sql('create table sales', conn)\n",
        "print(df)"
      ]
    },
    {
      "cell_type": "code",
      "execution_count": null,
      "metadata": {
        "id": "R0OVJj5N7wyd"
      },
      "outputs": [],
      "source": [
        "import sqlite3\n",
        "\n",
        "class Students_Data:\n",
        "    def __init__(self):    \n",
        "        con = sqlite3.connect(\"/workspaces/streamlit_exp/subject_list.sqlite\")\n",
        "        self.c = con.cursor()\n",
        "        self.c.execute(\"select * from student_list\")\n",
        "        self.data = (self.c.fetchall())\n",
        "        self.c.execute(\"select COUNT(*) from student_list\")\n",
        "        self.total_count = (self.c.fetchone())\n",
        "        con.commit()\n",
        "        # con.close()\n",
        "    def delete_me(self,id):\n",
        "        self.c.execute(f\"DELETE from student_list where id = {id}\")\n",
        "        self.data = (self.c.fetchall())\n",
        "\n",
        "    def get_line(self):\n",
        "        self.c.execute(\"select * from student_list\")\n",
        "        self.data = (self.c.fetchall())\n",
        "\n",
        "    def update_me(self,name,id):\n",
        "        self.c.execute(f\"\"\"\n",
        "        UPDATE student_list SET \"name\"={name}\n",
        "        where id = {id} ;\n",
        "        \"\"\")\n",
        "        self.data = (self.c.fetchall())\n",
        "\n",
        "    def delete_me(self,id):\n",
        "        self.c.execute(f\"\"\"\n",
        "        DELETE where id={id}\n",
        "        \"\"\")\n",
        "        self.data = (self.c.fetchall())\n",
        "\n",
        "    def insert_me(self,name,id,age):\n",
        "        self.c.execute(f\"\"\"\n",
        "        INSERT INTO student_list (\"name \", id, age) VALUES('{name}', {id}, {age});\n",
        "        \"\"\")\n",
        "        \n",
        "        self.data = (self.c.fetchall())\n",
        "\n",
        "    def show_data(self):\n",
        "        self.c.execute(\"select * from student_list\")\n",
        "        for i in self.data():\n",
        "            print(i[1])\n",
        "\n",
        "obj = Students_Data()"
      ]
    },
    {
      "cell_type": "code",
      "execution_count": null,
      "metadata": {
        "id": "oJy70I367w0w"
      },
      "outputs": [],
      "source": [
        "import gradio as gr\n",
        "import pandas as pd\n",
        "import sqlite3\n",
        "\n",
        "box = gr.Blocks()\n",
        "\n",
        "def get_all_data():\n",
        "  con = sqlite3.connect(\"/workspaces/streamlit_exp/subject_list.sqlite\")\n",
        "  df = pd.read_sql_query(\"select * from student_list\",con)\n",
        "  return(df)\n",
        "\n",
        "# def update_list(name, id):\n",
        "#   con = sqlite3.connect(\"/workspaces/streamlit_exp/subject_list.sqlite\")\n",
        "#   df = pd.read_sql_query(f\"UPDATE student_list SET \"name\"={name}where id = {id};\",con)\n",
        "#   return df\n",
        "\n",
        "def delete_data(list_name):\n",
        "  con = sqlite3.connect(\"/workspaces/streamlit_exp/subject_list.sqlite\")\n",
        "  df = pd.read_sql_query(\"DELETE FROM student_list where id={list_name}\",con)\n",
        "  return(df)\n",
        "\n",
        "\n",
        "with box:\n",
        "  with gr.Tab(\"get all data\"):\n",
        "    button = gr.Button(\"press me\")\n",
        "    button.click(fn=get_all_data,outputs=[gr.DataFrame()])\n",
        "  with gr.Tab(\"delete\"):\n",
        "    list_name = gr.Textbox(\"enter id number\")\n",
        "    button.click(fn=delete_data,inputs=[id])\n",
        "\n",
        "box.launch(share=True)"
      ]
    },
    {
      "cell_type": "code",
      "execution_count": null,
      "metadata": {},
      "outputs": [],
      "source": [
        "import gradio as gr\n",
        "import pandas as pd\n",
        "import sqlite3\n",
        "\n",
        "box = gr.Blocks()\n",
        "\n",
        "def get_all_data():\n",
        "  con = sqlite3.connect(\"/workspaces/streamlit_exp/subject_list.sqlite\")\n",
        "  df = pd.read_sql_query(\"select * from student_list\",con)\n",
        "  return(df)\n",
        "\n",
        "# def update_list(name, id):\n",
        "#   con = sqlite3.connect(\"/workspaces/streamlit_exp/subject_list.sqlite\")\n",
        "#   df = pd.read_sql_query(f\"UPDATE student_list SET \"name\"={name}where id = {id};\",con)\n",
        "#   return df\n",
        "\n",
        "def delete_data(list_name):\n",
        "    return list_name\n",
        "\n",
        "with box:\n",
        "  with gr.Tab(\"get all data\"):\n",
        "    button = gr.Button(\"press me\")\n",
        "    button.click(fn=get_all_data,inputs=[],outputs=[gr.DataFrame()])\n",
        "  with gr.Tab(\"delete\"):\n",
        "    list_name = gr.Textbox(\"enter id number\")\n",
        "    button.click(fn=delete_data,inputs=[id],outputs=[gr.Label()])\n",
        "\n",
        "box.launch(share=True)"
      ]
    },
    {
      "cell_type": "code",
      "execution_count": null,
      "metadata": {},
      "outputs": [],
      "source": [
        "con = sqlite3.connect(\"/workspaces/streamlit_exp/subject_list.sqlite\")\n",
        "df = pd.read_sql_query(\"select * from student_list\",con)\n",
        "print(df)\n"
      ]
    },
    {
      "cell_type": "code",
      "execution_count": null,
      "metadata": {},
      "outputs": [],
      "source": []
    },
    {
      "cell_type": "code",
      "execution_count": null,
      "metadata": {},
      "outputs": [],
      "source": []
    },
    {
      "cell_type": "code",
      "execution_count": null,
      "metadata": {
        "id": "LYelxDso7w2E"
      },
      "outputs": [],
      "source": [
        "import gradio as gr\n",
        "\n",
        "box = gr.Blocks()\n",
        "def fake(x,y,z,c):\n",
        "    return(\"hello\")\n",
        "\n",
        "with box:\n",
        "  button = gr.Button(\"press me\")\n",
        "  button.click(fn=fake,outputs=[gr.Label()])\n",
        "\n",
        "box.launch()"
      ]
    },
    {
      "cell_type": "code",
      "execution_count": null,
      "metadata": {
        "id": "CNz2KMCA7w7e"
      },
      "outputs": [],
      "source": [
        "import sqlite3\n",
        "\n",
        "class Students_Data:\n",
        "    def __init__(self):    \n",
        "        con = sqlite3.connect(\"/workspaces/streamlit_exp/subject_list.sqlite\")\n",
        "        self.c = con.cursor()\n",
        "        self.c.execute(\"select * from student_list\")\n",
        "        self.data = (self.c.fetchall())\n",
        "        self.c.execute(\"select COUNT(*) from student_list\")\n",
        "        self.total_count = (self.c.fetchone())\n",
        "        con.commit()\n",
        "        # con.close()\n",
        "    def delete_me(self,id):\n",
        "        self.c.execute(f\"DELETE from student_list where id = {id}\")\n",
        "        self.data = (self.c.fetchall())\n",
        "\n",
        "    def get_line(self):\n",
        "        self.c.execute(\"select * from student_list\")\n",
        "        self.data = (self.c.fetchall())\n",
        "\n",
        "    def update_me(self,name,id):\n",
        "        self.c.execute(f\"\"\"\n",
        "        UPDATE student_list SET \"name\"={name}\n",
        "        where id = {id} ;\n",
        "        \"\"\")\n",
        "        self.data = (self.c.fetchall())\n",
        "\n",
        "    def delete_me(self,id):\n",
        "        self.c.execute(f\"\"\"\n",
        "        DELETE where id={id}\n",
        "        \"\"\")\n",
        "        self.data = (self.c.fetchall())\n",
        "\n",
        "    def insert_me(self,name,id,age):\n",
        "        self.c.execute(f\"\"\"\n",
        "        INSERT INTO student_list (\"name \", id, age) VALUES('{name}', {id}, {age});\n",
        "        \"\"\")\n",
        "        \n",
        "        self.data = (self.c.fetchall())\n",
        "\n",
        "    def show_data(self):\n",
        "        self.c.execute(\"select * from student_list\")\n",
        "        for i in self.data():\n",
        "            print(i[1])\n",
        "\n",
        "obj = Students_Data()"
      ]
    },
    {
      "cell_type": "code",
      "execution_count": 4,
      "metadata": {},
      "outputs": [
        {
          "name": "stdout",
          "output_type": "stream",
          "text": [
            "Running on local URL:  http://127.0.0.1:7862\n",
            "\n",
            "To create a public link, set `share=True` in `launch()`.\n"
          ]
        },
        {
          "data": {
            "text/html": [
              "<div><iframe src=\"http://127.0.0.1:7862/\" width=\"100%\" height=\"500\" allow=\"autoplay; camera; microphone; clipboard-read; clipboard-write;\" frameborder=\"0\" allowfullscreen></iframe></div>"
            ],
            "text/plain": [
              "<IPython.core.display.HTML object>"
            ]
          },
          "metadata": {},
          "output_type": "display_data"
        },
        {
          "data": {
            "text/plain": []
          },
          "execution_count": 4,
          "metadata": {},
          "output_type": "execute_result"
        }
      ],
      "source": [
        "import gradio as gr\n",
        "import random\n",
        "import time\n",
        "\n",
        "md = \"\"\"This is some code:\n",
        "\n",
        "hello\n",
        "\n",
        "```py\n",
        "def fn(x, y, z):\n",
        "    print(x, y, z)\n",
        "\"\"\"\n",
        "\n",
        "with gr.Blocks() as demo:\n",
        "    chatbot = gr.Chatbot()\n",
        "    msg = gr.Textbox()\n",
        "    clear = gr.Button(\"Clear\")\n",
        "\n",
        "    def respond(message, chat_history):\n",
        "        bot_message = random.choice([\"what are you doing?\", \"hey do work\", \"i want burger\"])\n",
        "        chat_history.append((message, md))\n",
        "        time.sleep(1)\n",
        "        return \"\", chat_history\n",
        "\n",
        "    msg.submit(respond, [msg, chatbot], [msg, chatbot])\n",
        "    clear.click(lambda: None, None, chatbot, queue=False)\n",
        "\n",
        "demo.launch()\n"
      ]
    },
    {
      "cell_type": "code",
      "execution_count": 6,
      "metadata": {},
      "outputs": [
        {
          "name": "stdout",
          "output_type": "stream",
          "text": [
            "Running on local URL:  http://127.0.0.1:7864\n",
            "\n",
            "To create a public link, set `share=True` in `launch()`.\n"
          ]
        },
        {
          "data": {
            "text/html": [
              "<div><iframe src=\"http://127.0.0.1:7864/\" width=\"100%\" height=\"500\" allow=\"autoplay; camera; microphone; clipboard-read; clipboard-write;\" frameborder=\"0\" allowfullscreen></iframe></div>"
            ],
            "text/plain": [
              "<IPython.core.display.HTML object>"
            ]
          },
          "metadata": {},
          "output_type": "display_data"
        },
        {
          "data": {
            "text/plain": []
          },
          "execution_count": 6,
          "metadata": {},
          "output_type": "execute_result"
        }
      ],
      "source": [
        "import gradio as gr\n",
        "\n",
        "\n",
        "def add_text(history, text):\n",
        "    history = history + [(text, None)]\n",
        "    return history, gr.update(value=\"\", interactive=False)\n",
        "\n",
        "\n",
        "def add_file(history, file):\n",
        "    history = history + [((file.name,), None)]\n",
        "    return history\n",
        "\n",
        "\n",
        "def bot(history):\n",
        "    response = \"**That's cool!**\"\n",
        "    history[-1][1] = response\n",
        "    return history\n",
        "\n",
        "\n",
        "with gr.Blocks() as demo:\n",
        "    chatbot = gr.Chatbot([], elem_id=\"chatbot\").style(height=750)\n",
        "\n",
        "    with gr.Row():\n",
        "        with gr.Column(scale=0.85):\n",
        "            txt = gr.Textbox(\n",
        "                show_label=False,\n",
        "                placeholder=\"Enter text and press enter, or upload an image\",\n",
        "            ).style(container=False)\n",
        "        with gr.Column(scale=0.15, min_width=0):\n",
        "            btn = gr.UploadButton(\"📁\", file_types=[\"image\", \"video\", \"audio\"])\n",
        "\n",
        "    txt_msg = txt.submit(add_text, [chatbot, txt], [chatbot, txt], queue=False).then(\n",
        "        bot, chatbot, chatbot\n",
        "    )\n",
        "    txt_msg.then(lambda: gr.update(interactive=True), None, [txt], queue=False)\n",
        "    file_msg = btn.upload(add_file, [chatbot, btn], [chatbot], queue=False).then(\n",
        "        bot, chatbot, chatbot\n",
        "    )\n",
        "\n",
        "demo.launch()\n"
      ]
    },
    {
      "cell_type": "code",
      "execution_count": null,
      "metadata": {},
      "outputs": [],
      "source": []
    },
    {
      "cell_type": "code",
      "execution_count": null,
      "metadata": {},
      "outputs": [],
      "source": []
    },
    {
      "cell_type": "code",
      "execution_count": null,
      "metadata": {},
      "outputs": [],
      "source": []
    },
    {
      "cell_type": "code",
      "execution_count": null,
      "metadata": {},
      "outputs": [],
      "source": []
    },
    {
      "cell_type": "code",
      "execution_count": null,
      "metadata": {},
      "outputs": [],
      "source": []
    },
    {
      "cell_type": "code",
      "execution_count": null,
      "metadata": {},
      "outputs": [],
      "source": []
    }
  ],
  "metadata": {
    "colab": {
      "private_outputs": true,
      "provenance": []
    },
    "kernelspec": {
      "display_name": "Python 3",
      "name": "python3"
    },
    "language_info": {
      "codemirror_mode": {
        "name": "ipython",
        "version": 3
      },
      "file_extension": ".py",
      "mimetype": "text/x-python",
      "name": "python",
      "nbconvert_exporter": "python",
      "pygments_lexer": "ipython3",
      "version": "3.10.4"
    }
  },
  "nbformat": 4,
  "nbformat_minor": 0
}
