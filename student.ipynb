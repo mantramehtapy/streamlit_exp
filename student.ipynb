{
  "cells": [
    {
      "cell_type": "code",
      "execution_count": null,
      "metadata": {
        "id": "DP-W3ZJg7sU7"
      },
      "outputs": [],
      "source": [
        "import pandas as pd\n",
        "\n",
        "df = pd.read_csv('pokemon_data.csv')\n",
        "\n",
        "df_xlsx = pd.read_excel('/content/pokemon_data.xlsx')\n",
        "\n",
        "print(df_xlsx.head(3))\n",
        "\n",
        "# print(df.head(3))\n",
        "# print(df.tail(3))"
      ]
    },
    {
      "cell_type": "code",
      "execution_count": null,
      "metadata": {
        "id": "6mdpVKC9yP5s"
      },
      "outputs": [],
      "source": []
    },
    {
      "cell_type": "code",
      "execution_count": null,
      "metadata": {
        "id": "i3AxD-TvyQFj"
      },
      "outputs": [],
      "source": []
    },
    {
      "cell_type": "code",
      "execution_count": null,
      "metadata": {
        "id": "Sa0QbMvVyQIg"
      },
      "outputs": [],
      "source": []
    },
    {
      "cell_type": "code",
      "execution_count": null,
      "metadata": {
        "id": "J61NO_AP7v35"
      },
      "outputs": [],
      "source": [
        "df.columns\n",
        "# print(df['Name'])\n",
        "# print(df['Name'][0:5])\n",
        "print(df.Name)"
      ]
    },
    {
      "cell_type": "code",
      "execution_count": null,
      "metadata": {
        "id": "U-uVqb2_7v6t"
      },
      "outputs": [],
      "source": [
        "df.loc[df['Type 1'] == \"Grass\"]"
      ]
    },
    {
      "cell_type": "code",
      "execution_count": null,
      "metadata": {
        "id": "tBSoX8pC7v8-"
      },
      "outputs": [],
      "source": [
        "df.describe()\n",
        "# df.sort_values('name')"
      ]
    },
    {
      "cell_type": "code",
      "execution_count": null,
      "metadata": {
        "id": "rDipl_be7v_d"
      },
      "outputs": [],
      "source": [
        "df.head(5)"
      ]
    },
    {
      "cell_type": "code",
      "execution_count": null,
      "metadata": {
        "id": "ozrwL5C07wCJ"
      },
      "outputs": [],
      "source": [
        "#df['Total'] = df['HP'] + df['Attack'] + df['Defense'] + df['Sp. Atk'] + df['Sp. Def'] + df['Speed']\n",
        "\n",
        "# df = df.drop(columns=['Total'])\n",
        "\n",
        "df['Total'] = df.iloc[:, 4:10].sum(axis=1)\n",
        "\n",
        "cols = list(df.columns)\n",
        "df = df[cols[0:4] + [cols[-1]]+cols[4:12]]\n",
        "\n",
        "df.head(5)"
      ]
    },
    {
      "cell_type": "code",
      "execution_count": null,
      "metadata": {
        "id": "Daj5bubo7wEp"
      },
      "outputs": [],
      "source": [
        "# df.to_csv('modified.csv', index=False)\n",
        "\n",
        "#df.to_excel('modified.xlsx', index=False)\n",
        "\n",
        "df.to_csv('modified.txt', index=False, sep='\\t')"
      ]
    },
    {
      "cell_type": "code",
      "execution_count": null,
      "metadata": {
        "id": "6gYBb9SR7wLb"
      },
      "outputs": [],
      "source": [
        "new_df = df.loc[(df['Type 1'] == 'Grass') & (df['Type 2'] == 'Poison') & (df['HP'] > 70)]\n",
        "\n",
        "new_df.reset_index(drop=True, inplace=True)\n",
        "\n",
        "new_df\n",
        "\n",
        "new_df.to_csv('filtered.csv')\n"
      ]
    },
    {
      "cell_type": "code",
      "execution_count": null,
      "metadata": {
        "id": "rNP6lVBd7wM6"
      },
      "outputs": [],
      "source": [
        "# df.to_csv('modified.csv', index=False)\n",
        "\n",
        "#df.to_excel('modified.xlsx', index=False)\n",
        "\n",
        "df.to_csv('modified.txt', index=False, sep='\\t')"
      ]
    },
    {
      "cell_type": "code",
      "execution_count": null,
      "metadata": {
        "id": "5AENfviZ7wO4"
      },
      "outputs": [],
      "source": [
        "new_df = df.loc[(df['Type 1'] == 'Grass') & (df['Type 2'] == 'Poison') & (df['HP'] > 70)]\n",
        "\n",
        "new_df.reset_index(drop=True, inplace=True)\n",
        "\n",
        "new_df\n",
        "\n",
        "new_df.to_csv('filtered.csv')"
      ]
    },
    {
      "cell_type": "code",
      "execution_count": null,
      "metadata": {
        "id": "29iZ58RL7wPw"
      },
      "outputs": [],
      "source": [
        "# df.loc[df['Total'] > 500, ['Generation','Legendary']] = ['Test 1', 'Test 2']\n",
        "\n",
        "# df\n",
        "\n",
        "df = pd.read_csv('modified.csv')\n",
        "\n",
        "df"
      ]
    },
    {
      "cell_type": "code",
      "execution_count": null,
      "metadata": {
        "id": "Fs6MBGW37wSm"
      },
      "outputs": [],
      "source": [
        "!pip install gradio \n",
        "!pip install pandas\n",
        "!pip install db-sqlite3\n"
      ]
    },
    {
      "cell_type": "markdown",
      "metadata": {},
      "source": []
    },
    {
      "cell_type": "code",
      "execution_count": null,
      "metadata": {
        "id": "haqAeqLi7wUG"
      },
      "outputs": [],
      "source": [
        "import sqlite3\n",
        "\n",
        "class Students_Data:\n",
        "    def __init__(self):    \n",
        "        con = sqlite3.connect(\"/workspaces/streamlit_exp/subject_list.sqlite\")\n",
        "        self.c = con.cursor()\n",
        "        self.c.execute(\"select * from subject_table\")\n",
        "        self.data = (self.c.fetchall())\n",
        "        self.c.execute(\"select COUNT(*) from subject_table\")\n",
        "        self.total_count = (self.c.fetchone())\n",
        "        con.commit()\n",
        "        # con.close()\n",
        "    def delete_me(self,id):\n",
        "        self.c.execute(f\"DELETE from subject_table where id = {id}\")\n",
        "        self.data = (self.c.fetchall())\n",
        "\n",
        "    def get_line(self):\n",
        "        self.c.execute(\"select * from subject_table\")\n",
        "        self.data = (self.c.fetchall())\n",
        "\n",
        "    def update_me(self,name,id):\n",
        "        self.c.execute(f\"\"\"\n",
        "        UPDATE subject_table SET \"name\"={name}\n",
        "        where id = {id} ;\n",
        "        \"\"\")\n",
        "        self.data = (self.c.fetchall())\n",
        "\n",
        "    def delete_me(self,id):\n",
        "        self.c.execute(f\"\"\"\n",
        "        DELETE where id={id}\n",
        "        \"\"\")\n",
        "        self.data = (self.c.fetchall())\n",
        "\n",
        "    def insert_me(self,name,id,age):\n",
        "        self.c.execute(f\"\"\"\n",
        "        INSERT INTO subject_table (\"name \", id, age) VALUES('{name}', {id}, {age});\n",
        "        \"\"\")\n",
        "        \n",
        "        self.data = (self.c.fetchall())\n",
        "\n",
        "    def show_data(self):\n",
        "        self.c.execute(\"select * from subject_table\")\n",
        "        for i in self.data():\n",
        "            print(i[1])\n",
        "\n",
        "obj = Students_Data()"
      ]
    },
    {
      "cell_type": "code",
      "execution_count": null,
      "metadata": {
        "id": "4UBbpXGs7wVX"
      },
      "outputs": [],
      "source": [
        "obj.delete_me(2001142)"
      ]
    },
    {
      "cell_type": "code",
      "execution_count": null,
      "metadata": {
        "id": "i9lzLG7o7wW1"
      },
      "outputs": [],
      "source": [
        "obj.get_line()"
      ]
    },
    {
      "cell_type": "code",
      "execution_count": null,
      "metadata": {
        "id": "KZdMSGTQ7wYE"
      },
      "outputs": [],
      "source": [
        "obj.data"
      ]
    },
    {
      "cell_type": "code",
      "execution_count": null,
      "metadata": {
        "id": "l-8n-qQ4k-OB"
      },
      "outputs": [],
      "source": [
        "obj.insert_me(\"parva\",1234,10)"
      ]
    },
    {
      "cell_type": "code",
      "execution_count": null,
      "metadata": {
        "id": "JZF17YZQnGdE"
      },
      "outputs": [],
      "source": [
        "obj.get_line()\n",
        "obj.data"
      ]
    },
    {
      "cell_type": "code",
      "execution_count": null,
      "metadata": {
        "id": "ZMy8fNdDk-X5"
      },
      "outputs": [],
      "source": [
        "obj.update_me(\"prakash\",1234)"
      ]
    },
    {
      "cell_type": "code",
      "execution_count": null,
      "metadata": {
        "id": "tLQjwTh17wZl"
      },
      "outputs": [],
      "source": [
        "obj.get_line()\n",
        "obj.data"
      ]
    },
    {
      "cell_type": "code",
      "execution_count": null,
      "metadata": {
        "id": "WRE4waNW7wa6"
      },
      "outputs": [],
      "source": [
        "obj.delete_me(1234)"
      ]
    },
    {
      "cell_type": "code",
      "execution_count": null,
      "metadata": {
        "id": "CEvZ5Me77wct"
      },
      "outputs": [],
      "source": [
        "obj.get_line()\n",
        "obj.data"
      ]
    },
    {
      "cell_type": "code",
      "execution_count": null,
      "metadata": {
        "id": "oyqaqSBK7weD"
      },
      "outputs": [],
      "source": [
        "import pandas as pd\n",
        "\n",
        "engine = create_engine(\"/content/subject_list.sqlite\")\n",
        "\n",
        "data = pd.read_sql(\"id\", engine)\n",
        "\n",
        "data.head()\n"
      ]
    },
    {
      "cell_type": "code",
      "execution_count": null,
      "metadata": {
        "id": "Eo8Sqfed7wfr"
      },
      "outputs": [],
      "source": [
        "!pip install -U pandasql"
      ]
    },
    {
      "cell_type": "code",
      "execution_count": null,
      "metadata": {
        "id": "2XHukhdT7whR"
      },
      "outputs": [],
      "source": [
        "from pandasql import sqldf, load_meat, load_births"
      ]
    },
    {
      "cell_type": "code",
      "execution_count": null,
      "metadata": {
        "id": "aHzTkLeg7wiv"
      },
      "outputs": [],
      "source": [
        "pysqldf = lambda q: sqldf(q, globals())"
      ]
    },
    {
      "cell_type": "code",
      "execution_count": null,
      "metadata": {
        "id": "OLxYkQrZ7wll"
      },
      "outputs": [],
      "source": [
        "meat = load_meat()"
      ]
    },
    {
      "cell_type": "code",
      "execution_count": null,
      "metadata": {
        "id": "C1b_ZTXo7wmq"
      },
      "outputs": [],
      "source": [
        "births = load_births()"
      ]
    },
    {
      "cell_type": "code",
      "execution_count": null,
      "metadata": {
        "id": "sqmFtdQd7wpz"
      },
      "outputs": [],
      "source": [
        "print (pysqldf(\"SELECT * FROM meat LIMIT 10;\").head())"
      ]
    },
    {
      "cell_type": "code",
      "execution_count": null,
      "metadata": {
        "id": "9AQE0nuV7wrq"
      },
      "outputs": [],
      "source": [
        "import sqlite3\n",
        "import pandas as pd\n",
        "\n",
        "conn = sqlite3.connect('work.sqlite')\n",
        "cur = conn.cursor()\n",
        "conn.commit()"
      ]
    },
    {
      "cell_type": "code",
      "execution_count": null,
      "metadata": {
        "id": "NxBWMdur7wuv"
      },
      "outputs": [],
      "source": [
        "df = pd.read_sql('create table sales', conn)\n",
        "print(df)"
      ]
    },
    {
      "cell_type": "code",
      "execution_count": null,
      "metadata": {
        "id": "R0OVJj5N7wyd"
      },
      "outputs": [],
      "source": [
        "import sqlite3\n",
        "\n",
        "class Students_Data:\n",
        "    def __init__(self):    \n",
        "        con = sqlite3.connect(\"/workspaces/streamlit_exp/subject_list.sqlite\")\n",
        "        self.c = con.cursor()\n",
        "        self.c.execute(\"select * from subject_table\")\n",
        "        self.data = (self.c.fetchall())\n",
        "        self.c.execute(\"select COUNT(*) from subject_table\")\n",
        "        self.total_count = (self.c.fetchone())\n",
        "        con.commit()\n",
        "        # con.close()\n",
        "    def delete_me(self,id):\n",
        "        self.c.execute(f\"DELETE from subject_table where id = {id}\")\n",
        "        self.data = (self.c.fetchall())\n",
        "\n",
        "    def get_line(self):\n",
        "        self.c.execute(\"select * from subject_table\")\n",
        "        self.data = (self.c.fetchall())\n",
        "\n",
        "    def update_me(self,name,id):\n",
        "        self.c.execute(f\"\"\"\n",
        "        UPDATE subject_table SET \"name\"={name}\n",
        "        where id = {id} ;\n",
        "        \"\"\")\n",
        "        self.data = (self.c.fetchall())\n",
        "\n",
        "    def delete_me(self,id):\n",
        "        self.c.execute(f\"\"\"\n",
        "        DELETE where id={id}\n",
        "        \"\"\")\n",
        "        self.data = (self.c.fetchall())\n",
        "\n",
        "    def insert_me(self,name,id,age):\n",
        "        self.c.execute(f\"\"\"\n",
        "        INSERT INTO subject_table (\"name \", id, age) VALUES('{name}', {id}, {age});\n",
        "        \"\"\")\n",
        "        \n",
        "        self.data = (self.c.fetchall())\n",
        "\n",
        "    def show_data(self):\n",
        "        self.c.execute(\"select * from subject_table\")\n",
        "        for i in self.data():\n",
        "            print(i[1])\n",
        "\n",
        "obj = Students_Data()"
      ]
    },
    {
      "cell_type": "code",
      "execution_count": null,
      "metadata": {
        "id": "oJy70I367w0w"
      },
      "outputs": [],
      "source": [
        "import gradio as gr\n",
        "import pandas as pd\n",
        "import sqlite3\n",
        "\n",
        "box = gr.Blocks()\n",
        "\n",
        "def get_all_data():\n",
        "  con = sqlite3.connect(\"/workspaces/streamlit_exp/subject_list.sqlite\")\n",
        "  df = pd.read_sql_query(\"select * from subject_table\",con)\n",
        "  return(df)\n",
        "\n",
        "# def update_list(name, id):\n",
        "#   con = sqlite3.connect(\"/workspaces/streamlit_exp/subject_list.sqlite\")\n",
        "#   df = pd.read_sql_query(f\"UPDATE subject_table SET \"name\"={name}where id = {id};\",con)\n",
        "#   return df\n",
        "\n",
        "def delete_data(list_name):\n",
        "  con = sqlite3.connect(\"/workspaces/streamlit_exp/subject_list.sqlite\")\n",
        "  df = pd.read_sql_query(\"DELETE FROM subject_table where id={list_name}\",con)\n",
        "  return(df)\n",
        "\n",
        "\n",
        "with box:\n",
        "  with gr.Tab(\"get all data\"):\n",
        "    button = gr.Button(\"press me\")\n",
        "    button.click(fn=get_all_data,outputs=[gr.DataFrame()])\n",
        "  with gr.Tab(\"delete\"):\n",
        "    list_name = gr.Textbox(\"enter id number\")\n",
        "    button.click(fn=delete_data,inputs=[id])\n",
        "\n",
        "box.launch(share=True)"
      ]
    },
    {
      "cell_type": "code",
      "execution_count": null,
      "metadata": {},
      "outputs": [],
      "source": [
        "import gradio as gr\n",
        "import pandas as pd\n",
        "import sqlite3\n",
        "\n",
        "box = gr.Blocks()\n",
        "\n",
        "def get_all_data():\n",
        "  con = sqlite3.connect(\"/workspaces/streamlit_exp/subject_list.sqlite\")\n",
        "  df = pd.read_sql_query(\"select * from subject_table\",con)\n",
        "  return(df)\n",
        "\n",
        "# def update_list(name, id):\n",
        "#   con = sqlite3.connect(\"/workspaces/streamlit_exp/subject_list.sqlite\")\n",
        "#   df = pd.read_sql_query(f\"UPDATE subject_table SET \"name\"={name}where id = {id};\",con)\n",
        "#   return df\n",
        "\n",
        "def delete_data(list_name):\n",
        "    return list_name\n",
        "\n",
        "with box:\n",
        "  with gr.Tab(\"get all data\"):\n",
        "    button = gr.Button(\"press me\")\n",
        "    button.click(fn=get_all_data,inputs=[],outputs=[gr.DataFrame()])\n",
        "  with gr.Tab(\"delete\"):\n",
        "    list_name = gr.Textbox(\"enter id number\")\n",
        "    button.click(fn=delete_data,inputs=[id],outputs=[gr.Label()])\n",
        "\n",
        "box.launch(share=True)"
      ]
    },
    {
      "cell_type": "code",
      "execution_count": null,
      "metadata": {},
      "outputs": [],
      "source": [
        "con = sqlite3.connect(\"/workspaces/streamlit_exp/subject_list.sqlite\")\n",
        "df = pd.read_sql_query(\"select * from subject_table\",con)\n",
        "print(df)\n"
      ]
    },
    {
      "cell_type": "code",
      "execution_count": null,
      "metadata": {},
      "outputs": [],
      "source": []
    },
    {
      "cell_type": "code",
      "execution_count": null,
      "metadata": {},
      "outputs": [],
      "source": []
    },
    {
      "cell_type": "code",
      "execution_count": null,
      "metadata": {
        "id": "LYelxDso7w2E"
      },
      "outputs": [],
      "source": [
        "import gradio as gr\n",
        "\n",
        "box = gr.Blocks()\n",
        "def fake(x,y,z,c):\n",
        "    return(\"hello\")\n",
        "\n",
        "with box:\n",
        "  button = gr.Button(\"press me\")\n",
        "  button.click(fn=fake,outputs=[gr.Label()])\n",
        "\n",
        "box.launch()"
      ]
    },
    {
      "cell_type": "code",
      "execution_count": null,
      "metadata": {
        "id": "CNz2KMCA7w7e"
      },
      "outputs": [],
      "source": [
        "import sqlite3\n",
        "\n",
        "class Students_Data:\n",
        "    def __init__(self):    \n",
        "        con = sqlite3.connect(\"/workspaces/streamlit_exp/subject_list.sqlite\")\n",
        "        self.c = con.cursor()\n",
        "        self.c.execute(\"select * from subject_table\")\n",
        "        self.data = (self.c.fetchall())\n",
        "        self.c.execute(\"select COUNT(*) from subject_table\")\n",
        "        self.total_count = (self.c.fetchone())\n",
        "        con.commit()\n",
        "        # con.close()\n",
        "    def delete_me(self,id):\n",
        "        self.c.execute(f\"DELETE from subject_table where id = {id}\")\n",
        "        self.data = (self.c.fetchall())\n",
        "\n",
        "    def get_line(self):\n",
        "        self.c.execute(\"select * from subject_table\")\n",
        "        self.data = (self.c.fetchall())\n",
        "\n",
        "    def update_me(self,name,id):\n",
        "        self.c.execute(f\"\"\"\n",
        "        UPDATE subject_table SET \"name\"={name}\n",
        "        where id = {id} ;\n",
        "        \"\"\")\n",
        "        self.data = (self.c.fetchall())\n",
        "\n",
        "    def delete_me(self,id):\n",
        "        self.c.execute(f\"\"\"\n",
        "        DELETE where id={id}\n",
        "        \"\"\")\n",
        "        self.data = (self.c.fetchall())\n",
        "\n",
        "    def insert_me(self,name,id,age):\n",
        "        self.c.execute(f\"\"\"\n",
        "        INSERT INTO subject_table (\"name \", id, age) VALUES('{name}', {id}, {age});\n",
        "        \"\"\")\n",
        "        \n",
        "        self.data = (self.c.fetchall())\n",
        "\n",
        "    def show_data(self):\n",
        "        self.c.execute(\"select * from subject_table\")\n",
        "        for i in self.data():\n",
        "            print(i[1])\n",
        "\n",
        "obj = Students_Data()"
      ]
    }
  ],
  "metadata": {
    "colab": {
      "private_outputs": true,
      "provenance": []
    },
    "kernelspec": {
      "display_name": "Python 3",
      "name": "python3"
    },
    "language_info": {
      "codemirror_mode": {
        "name": "ipython",
        "version": 3
      },
      "file_extension": ".py",
      "mimetype": "text/x-python",
      "name": "python",
      "nbconvert_exporter": "python",
      "pygments_lexer": "ipython3",
      "version": "3.10.4"
    }
  },
  "nbformat": 4,
  "nbformat_minor": 0
}
